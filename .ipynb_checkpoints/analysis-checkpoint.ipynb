{
 "cells": [
  {
   "cell_type": "code",
   "execution_count": 8,
   "id": "f2e206cb",
   "metadata": {},
   "outputs": [],
   "source": [
    "from sentiment_analysis.dframes import DataAnalyzer\n",
    "analyzer = DataAnalyzer()"
   ]
  },
  {
   "cell_type": "code",
   "execution_count": 2,
   "id": "98b9609b-fed2-4c11-a1bb-508b8dd47b97",
   "metadata": {},
   "outputs": [
    {
     "name": "stdout",
     "output_type": "stream",
     "text": [
      "Top 15 Most Positive Messages:\n"
     ]
    },
    {
     "data": {
      "text/html": [
       "<div>\n",
       "<style scoped>\n",
       "    .dataframe tbody tr th:only-of-type {\n",
       "        vertical-align: middle;\n",
       "    }\n",
       "\n",
       "    .dataframe tbody tr th {\n",
       "        vertical-align: top;\n",
       "    }\n",
       "\n",
       "    .dataframe thead th {\n",
       "        text-align: right;\n",
       "    }\n",
       "</style>\n",
       "<table border=\"1\" class=\"dataframe\">\n",
       "  <thead>\n",
       "    <tr style=\"text-align: right;\">\n",
       "      <th></th>\n",
       "      <th>ID</th>\n",
       "      <th>User</th>\n",
       "      <th>Content</th>\n",
       "      <th>Timestamp</th>\n",
       "      <th>Score</th>\n",
       "      <th>Positive</th>\n",
       "      <th>Negative</th>\n",
       "      <th>Helpful</th>\n",
       "      <th>Sarcastic</th>\n",
       "    </tr>\n",
       "  </thead>\n",
       "  <tbody>\n",
       "    <tr>\n",
       "      <th>0</th>\n",
       "      <td>11201</td>\n",
       "      <td>User_934</td>\n",
       "      <td>Let's Ducking Go! Jeeters out!</td>\n",
       "      <td>2024-10-26 15:18</td>\n",
       "      <td>1.0</td>\n",
       "      <td>1.0</td>\n",
       "      <td>0.2</td>\n",
       "      <td>0.2</td>\n",
       "      <td>0.8</td>\n",
       "    </tr>\n",
       "    <tr>\n",
       "      <th>1</th>\n",
       "      <td>11182</td>\n",
       "      <td>User_740</td>\n",
       "      <td>Great . Good project</td>\n",
       "      <td>2024-10-26 15:09</td>\n",
       "      <td>1.0</td>\n",
       "      <td>1.0</td>\n",
       "      <td>0.0</td>\n",
       "      <td>1.0</td>\n",
       "      <td>0.0</td>\n",
       "    </tr>\n",
       "    <tr>\n",
       "      <th>2</th>\n",
       "      <td>550</td>\n",
       "      <td>User_294</td>\n",
       "      <td>GET READY TO GO TO THE MOON</td>\n",
       "      <td>2024-10-25 03:11</td>\n",
       "      <td>1.0</td>\n",
       "      <td>1.0</td>\n",
       "      <td>0.0</td>\n",
       "      <td>1.0</td>\n",
       "      <td>0.0</td>\n",
       "    </tr>\n",
       "    <tr>\n",
       "      <th>3</th>\n",
       "      <td>510</td>\n",
       "      <td>User_659</td>\n",
       "      <td>This is MASSIVELY bullish</td>\n",
       "      <td>2024-10-25 03:09</td>\n",
       "      <td>1.0</td>\n",
       "      <td>1.0</td>\n",
       "      <td>0.0</td>\n",
       "      <td>0.8</td>\n",
       "      <td>0.0</td>\n",
       "    </tr>\n",
       "    <tr>\n",
       "      <th>4</th>\n",
       "      <td>502</td>\n",
       "      <td>User_481</td>\n",
       "      <td>Dev is the best dont worry</td>\n",
       "      <td>2024-10-25 03:08</td>\n",
       "      <td>1.0</td>\n",
       "      <td>1.0</td>\n",
       "      <td>0.0</td>\n",
       "      <td>1.0</td>\n",
       "      <td>0.0</td>\n",
       "    </tr>\n",
       "    <tr>\n",
       "      <th>5</th>\n",
       "      <td>2710</td>\n",
       "      <td>User_659</td>\n",
       "      <td>Fuck yeah dude, sending this 💯🫡</td>\n",
       "      <td>2024-10-25 04:01</td>\n",
       "      <td>1.0</td>\n",
       "      <td>1.0</td>\n",
       "      <td>0.8</td>\n",
       "      <td>0.2</td>\n",
       "      <td>0.0</td>\n",
       "    </tr>\n",
       "    <tr>\n",
       "      <th>6</th>\n",
       "      <td>2673</td>\n",
       "      <td>User_544</td>\n",
       "      <td>DUCKAI is here to STAY</td>\n",
       "      <td>2024-10-25 03:59</td>\n",
       "      <td>1.0</td>\n",
       "      <td>1.0</td>\n",
       "      <td>0.0</td>\n",
       "      <td>0.8</td>\n",
       "      <td>0.0</td>\n",
       "    </tr>\n",
       "    <tr>\n",
       "      <th>7</th>\n",
       "      <td>2665</td>\n",
       "      <td>User_659</td>\n",
       "      <td>This project is the real deal, 3k MC to 2m MC in an hour, fucking incredible 💯</td>\n",
       "      <td>2024-10-25 03:58</td>\n",
       "      <td>1.0</td>\n",
       "      <td>1.0</td>\n",
       "      <td>0.0</td>\n",
       "      <td>0.8</td>\n",
       "      <td>0.0</td>\n",
       "    </tr>\n",
       "    <tr>\n",
       "      <th>8</th>\n",
       "      <td>5833</td>\n",
       "      <td>User_447</td>\n",
       "      <td>Stay updated 💯</td>\n",
       "      <td>2024-10-25 07:32</td>\n",
       "      <td>1.0</td>\n",
       "      <td>1.0</td>\n",
       "      <td>0.0</td>\n",
       "      <td>0.8</td>\n",
       "      <td>0.0</td>\n",
       "    </tr>\n",
       "    <tr>\n",
       "      <th>9</th>\n",
       "      <td>5829</td>\n",
       "      <td>User_Unknown</td>\n",
       "      <td>That's the spirit bro</td>\n",
       "      <td>2024-10-25 07:32</td>\n",
       "      <td>1.0</td>\n",
       "      <td>1.0</td>\n",
       "      <td>0.0</td>\n",
       "      <td>0.5</td>\n",
       "      <td>0.0</td>\n",
       "    </tr>\n",
       "    <tr>\n",
       "      <th>10</th>\n",
       "      <td>5787</td>\n",
       "      <td>User_Unknown</td>\n",
       "      <td>⚡️ let’s trust it 💯💯💯\\n⚡️Let's shill it.💪 💪💪\\n⚡️Let's spread it.💯💯💯\\n⚡️Let's share it.🚀🚀🚀\\n⚡️Let's support it.💪💔</td>\n",
       "      <td>2024-10-25 07:28</td>\n",
       "      <td>1.0</td>\n",
       "      <td>1.0</td>\n",
       "      <td>0.2</td>\n",
       "      <td>0.9</td>\n",
       "      <td>0.0</td>\n",
       "    </tr>\n",
       "    <tr>\n",
       "      <th>11</th>\n",
       "      <td>5768</td>\n",
       "      <td>User_883</td>\n",
       "      <td>Let’s goooo</td>\n",
       "      <td>2024-10-25 07:26</td>\n",
       "      <td>1.0</td>\n",
       "      <td>1.0</td>\n",
       "      <td>0.0</td>\n",
       "      <td>0.5</td>\n",
       "      <td>0.0</td>\n",
       "    </tr>\n",
       "    <tr>\n",
       "      <th>12</th>\n",
       "      <td>5766</td>\n",
       "      <td>User_Unknown</td>\n",
       "      <td>Let's make this project the best project ever 🔥</td>\n",
       "      <td>2024-10-25 07:26</td>\n",
       "      <td>1.0</td>\n",
       "      <td>1.0</td>\n",
       "      <td>0.0</td>\n",
       "      <td>1.0</td>\n",
       "      <td>0.0</td>\n",
       "    </tr>\n",
       "    <tr>\n",
       "      <th>13</th>\n",
       "      <td>5745</td>\n",
       "      <td>User_Unknown</td>\n",
       "      <td>That's good</td>\n",
       "      <td>2024-10-25 07:24</td>\n",
       "      <td>1.0</td>\n",
       "      <td>1.0</td>\n",
       "      <td>0.0</td>\n",
       "      <td>0.5</td>\n",
       "      <td>0.0</td>\n",
       "    </tr>\n",
       "    <tr>\n",
       "      <th>14</th>\n",
       "      <td>5735</td>\n",
       "      <td>User_544</td>\n",
       "      <td>The best kind of growth 👊🫡</td>\n",
       "      <td>2024-10-25 07:22</td>\n",
       "      <td>1.0</td>\n",
       "      <td>1.0</td>\n",
       "      <td>0.0</td>\n",
       "      <td>0.8</td>\n",
       "      <td>0.0</td>\n",
       "    </tr>\n",
       "    <tr>\n",
       "      <th>15</th>\n",
       "      <td>410</td>\n",
       "      <td>User_544</td>\n",
       "      <td>ONLY THE BEST FOR DUCKAI</td>\n",
       "      <td>2024-10-25 03:00</td>\n",
       "      <td>1.0</td>\n",
       "      <td>1.0</td>\n",
       "      <td>0.0</td>\n",
       "      <td>1.0</td>\n",
       "      <td>0.0</td>\n",
       "    </tr>\n",
       "    <tr>\n",
       "      <th>16</th>\n",
       "      <td>406</td>\n",
       "      <td>User_294</td>\n",
       "      <td>GUYS DEVS ARE THE BEST</td>\n",
       "      <td>2024-10-25 03:00</td>\n",
       "      <td>1.0</td>\n",
       "      <td>1.0</td>\n",
       "      <td>0.0</td>\n",
       "      <td>1.0</td>\n",
       "      <td>0.0</td>\n",
       "    </tr>\n",
       "    <tr>\n",
       "      <th>17</th>\n",
       "      <td>354</td>\n",
       "      <td>User_448</td>\n",
       "      <td>W excited for this</td>\n",
       "      <td>2024-10-25 02:54</td>\n",
       "      <td>1.0</td>\n",
       "      <td>1.0</td>\n",
       "      <td>0.0</td>\n",
       "      <td>0.8</td>\n",
       "      <td>0.0</td>\n",
       "    </tr>\n",
       "    <tr>\n",
       "      <th>18</th>\n",
       "      <td>353</td>\n",
       "      <td>User_544</td>\n",
       "      <td>We are on it rn!</td>\n",
       "      <td>2024-10-25 02:54</td>\n",
       "      <td>1.0</td>\n",
       "      <td>1.0</td>\n",
       "      <td>0.0</td>\n",
       "      <td>1.0</td>\n",
       "      <td>0.0</td>\n",
       "    </tr>\n",
       "    <tr>\n",
       "      <th>19</th>\n",
       "      <td>11764</td>\n",
       "      <td>User_544</td>\n",
       "      <td>Welcome ducklings! 🦆</td>\n",
       "      <td>2024-10-26 19:49</td>\n",
       "      <td>1.0</td>\n",
       "      <td>1.0</td>\n",
       "      <td>0.0</td>\n",
       "      <td>0.8</td>\n",
       "      <td>0.0</td>\n",
       "    </tr>\n",
       "    <tr>\n",
       "      <th>20</th>\n",
       "      <td>2987</td>\n",
       "      <td>User_494</td>\n",
       "      <td>Absolutely it will</td>\n",
       "      <td>2024-10-25 04:15</td>\n",
       "      <td>1.0</td>\n",
       "      <td>1.0</td>\n",
       "      <td>0.0</td>\n",
       "      <td>1.0</td>\n",
       "      <td>0.0</td>\n",
       "    </tr>\n",
       "    <tr>\n",
       "      <th>21</th>\n",
       "      <td>10618</td>\n",
       "      <td>User_544</td>\n",
       "      <td>WELCOME FELLOW DUCKLINGS! 🦆🥂</td>\n",
       "      <td>2024-10-26 09:17</td>\n",
       "      <td>1.0</td>\n",
       "      <td>1.0</td>\n",
       "      <td>0.0</td>\n",
       "      <td>0.8</td>\n",
       "      <td>0.0</td>\n",
       "    </tr>\n",
       "    <tr>\n",
       "      <th>22</th>\n",
       "      <td>10602</td>\n",
       "      <td>User_Unknown</td>\n",
       "      <td>I love that</td>\n",
       "      <td>2024-10-26 09:11</td>\n",
       "      <td>1.0</td>\n",
       "      <td>1.0</td>\n",
       "      <td>0.0</td>\n",
       "      <td>1.0</td>\n",
       "      <td>0.0</td>\n",
       "    </tr>\n",
       "    <tr>\n",
       "      <th>23</th>\n",
       "      <td>10583</td>\n",
       "      <td>User_Unknown</td>\n",
       "      <td>DUCKAL WE'LL ALWAYS BE THE BEST KING IN THE SPACE 🚀🚀🚀\\nCHECK IT OUT</td>\n",
       "      <td>2024-10-26 09:07</td>\n",
       "      <td>1.0</td>\n",
       "      <td>1.0</td>\n",
       "      <td>0.0</td>\n",
       "      <td>0.8</td>\n",
       "      <td>0.0</td>\n",
       "    </tr>\n",
       "    <tr>\n",
       "      <th>24</th>\n",
       "      <td>6138</td>\n",
       "      <td>User_447</td>\n",
       "      <td>Hype up boys</td>\n",
       "      <td>2024-10-25 08:09</td>\n",
       "      <td>1.0</td>\n",
       "      <td>1.0</td>\n",
       "      <td>0.0</td>\n",
       "      <td>0.8</td>\n",
       "      <td>0.0</td>\n",
       "    </tr>\n",
       "    <tr>\n",
       "      <th>25</th>\n",
       "      <td>6109</td>\n",
       "      <td>User_Unknown</td>\n",
       "      <td>More positive vibes guys</td>\n",
       "      <td>2024-10-25 08:05</td>\n",
       "      <td>1.0</td>\n",
       "      <td>1.0</td>\n",
       "      <td>0.0</td>\n",
       "      <td>0.8</td>\n",
       "      <td>0.0</td>\n",
       "    </tr>\n",
       "    <tr>\n",
       "      <th>26</th>\n",
       "      <td>5995</td>\n",
       "      <td>User_182</td>\n",
       "      <td>We're growing massively 🔥</td>\n",
       "      <td>2024-10-25 07:52</td>\n",
       "      <td>1.0</td>\n",
       "      <td>1.0</td>\n",
       "      <td>0.0</td>\n",
       "      <td>0.8</td>\n",
       "      <td>0.0</td>\n",
       "    </tr>\n",
       "    <tr>\n",
       "      <th>27</th>\n",
       "      <td>10556</td>\n",
       "      <td>User_Unknown</td>\n",
       "      <td>Dope and dope bro</td>\n",
       "      <td>2024-10-26 08:58</td>\n",
       "      <td>1.0</td>\n",
       "      <td>1.0</td>\n",
       "      <td>0.0</td>\n",
       "      <td>0.5</td>\n",
       "      <td>0.0</td>\n",
       "    </tr>\n",
       "    <tr>\n",
       "      <th>28</th>\n",
       "      <td>10542</td>\n",
       "      <td>User_Unknown</td>\n",
       "      <td>We're get to the top guys 🚀🚀🚀🚀</td>\n",
       "      <td>2024-10-26 08:55</td>\n",
       "      <td>1.0</td>\n",
       "      <td>1.0</td>\n",
       "      <td>0.0</td>\n",
       "      <td>1.0</td>\n",
       "      <td>0.0</td>\n",
       "    </tr>\n",
       "    <tr>\n",
       "      <th>29</th>\n",
       "      <td>10446</td>\n",
       "      <td>User_689</td>\n",
       "      <td>Hes the greatest duck of all time</td>\n",
       "      <td>2024-10-26 08:15</td>\n",
       "      <td>1.0</td>\n",
       "      <td>1.0</td>\n",
       "      <td>0.0</td>\n",
       "      <td>0.8</td>\n",
       "      <td>0.0</td>\n",
       "    </tr>\n",
       "    <tr>\n",
       "      <th>30</th>\n",
       "      <td>247</td>\n",
       "      <td>User_294</td>\n",
       "      <td>YOU HAVE MY TRUST!</td>\n",
       "      <td>2024-10-25 02:21</td>\n",
       "      <td>1.0</td>\n",
       "      <td>1.0</td>\n",
       "      <td>0.0</td>\n",
       "      <td>1.0</td>\n",
       "      <td>0.0</td>\n",
       "    </tr>\n",
       "    <tr>\n",
       "      <th>31</th>\n",
       "      <td>244</td>\n",
       "      <td>User_294</td>\n",
       "      <td>I LOVE YOU DEVS!!!</td>\n",
       "      <td>2024-10-25 02:21</td>\n",
       "      <td>1.0</td>\n",
       "      <td>1.0</td>\n",
       "      <td>0.0</td>\n",
       "      <td>0.8</td>\n",
       "      <td>0.0</td>\n",
       "    </tr>\n",
       "    <tr>\n",
       "      <th>32</th>\n",
       "      <td>241</td>\n",
       "      <td>User_294</td>\n",
       "      <td>LFG DUDES THIS IS SO BULLISH</td>\n",
       "      <td>2024-10-25 02:21</td>\n",
       "      <td>1.0</td>\n",
       "      <td>1.0</td>\n",
       "      <td>0.0</td>\n",
       "      <td>0.8</td>\n",
       "      <td>0.0</td>\n",
       "    </tr>\n",
       "    <tr>\n",
       "      <th>33</th>\n",
       "      <td>6832</td>\n",
       "      <td>User_421</td>\n",
       "      <td>Let's fucking gooo guys</td>\n",
       "      <td>2024-10-25 08:57</td>\n",
       "      <td>1.0</td>\n",
       "      <td>1.0</td>\n",
       "      <td>0.8</td>\n",
       "      <td>0.0</td>\n",
       "      <td>0.0</td>\n",
       "    </tr>\n",
       "    <tr>\n",
       "      <th>34</th>\n",
       "      <td>6738</td>\n",
       "      <td>User_421</td>\n",
       "      <td>Only up from here</td>\n",
       "      <td>2024-10-25 08:48</td>\n",
       "      <td>1.0</td>\n",
       "      <td>1.0</td>\n",
       "      <td>0.0</td>\n",
       "      <td>1.0</td>\n",
       "      <td>0.0</td>\n",
       "    </tr>\n",
       "    <tr>\n",
       "      <th>35</th>\n",
       "      <td>6710</td>\n",
       "      <td>User_202</td>\n",
       "      <td>Perfect bounce</td>\n",
       "      <td>2024-10-25 08:46</td>\n",
       "      <td>1.0</td>\n",
       "      <td>1.0</td>\n",
       "      <td>0.0</td>\n",
       "      <td>0.5</td>\n",
       "      <td>0.0</td>\n",
       "    </tr>\n",
       "    <tr>\n",
       "      <th>36</th>\n",
       "      <td>6690</td>\n",
       "      <td>User_447</td>\n",
       "      <td>Based team 🚀</td>\n",
       "      <td>2024-10-25 08:44</td>\n",
       "      <td>1.0</td>\n",
       "      <td>1.0</td>\n",
       "      <td>0.0</td>\n",
       "      <td>0.5</td>\n",
       "      <td>0.0</td>\n",
       "    </tr>\n",
       "    <tr>\n",
       "      <th>37</th>\n",
       "      <td>6647</td>\n",
       "      <td>User_Unknown</td>\n",
       "      <td>All new members are welcome to this project</td>\n",
       "      <td>2024-10-25 08:42</td>\n",
       "      <td>1.0</td>\n",
       "      <td>1.0</td>\n",
       "      <td>0.0</td>\n",
       "      <td>1.0</td>\n",
       "      <td>0.0</td>\n",
       "    </tr>\n",
       "    <tr>\n",
       "      <th>38</th>\n",
       "      <td>5391</td>\n",
       "      <td>User_421</td>\n",
       "      <td>A based leader + A strong community 💪 = Bullish</td>\n",
       "      <td>2024-10-25 06:25</td>\n",
       "      <td>1.0</td>\n",
       "      <td>1.0</td>\n",
       "      <td>0.0</td>\n",
       "      <td>1.0</td>\n",
       "      <td>0.0</td>\n",
       "    </tr>\n",
       "    <tr>\n",
       "      <th>39</th>\n",
       "      <td>13453</td>\n",
       "      <td>User_007</td>\n",
       "      <td>You will thank me later</td>\n",
       "      <td>2024-10-27 15:54</td>\n",
       "      <td>1.0</td>\n",
       "      <td>1.0</td>\n",
       "      <td>0.0</td>\n",
       "      <td>1.0</td>\n",
       "      <td>0.0</td>\n",
       "    </tr>\n",
       "    <tr>\n",
       "      <th>40</th>\n",
       "      <td>206</td>\n",
       "      <td>User_294</td>\n",
       "      <td>THIS PROJECT IS GOING TO THE MOON TRUST ME</td>\n",
       "      <td>2024-10-25 02:11</td>\n",
       "      <td>1.0</td>\n",
       "      <td>1.0</td>\n",
       "      <td>0.0</td>\n",
       "      <td>0.8</td>\n",
       "      <td>0.0</td>\n",
       "    </tr>\n",
       "    <tr>\n",
       "      <th>41</th>\n",
       "      <td>10230</td>\n",
       "      <td>User_Unknown</td>\n",
       "      <td>All new members are welcome</td>\n",
       "      <td>2024-10-26 04:50</td>\n",
       "      <td>1.0</td>\n",
       "      <td>1.0</td>\n",
       "      <td>0.0</td>\n",
       "      <td>1.0</td>\n",
       "      <td>0.0</td>\n",
       "    </tr>\n",
       "    <tr>\n",
       "      <th>42</th>\n",
       "      <td>107</td>\n",
       "      <td>User_544</td>\n",
       "      <td>Very legit 🤝</td>\n",
       "      <td>2024-10-25 01:47</td>\n",
       "      <td>1.0</td>\n",
       "      <td>1.0</td>\n",
       "      <td>0.0</td>\n",
       "      <td>0.8</td>\n",
       "      <td>0.0</td>\n",
       "    </tr>\n",
       "    <tr>\n",
       "      <th>43</th>\n",
       "      <td>4151</td>\n",
       "      <td>User_087</td>\n",
       "      <td>🔥 2m very 🔥 soon 🔥</td>\n",
       "      <td>2024-10-25 04:43</td>\n",
       "      <td>1.0</td>\n",
       "      <td>1.0</td>\n",
       "      <td>0.0</td>\n",
       "      <td>0.0</td>\n",
       "      <td>0.0</td>\n",
       "    </tr>\n",
       "    <tr>\n",
       "      <th>44</th>\n",
       "      <td>9982</td>\n",
       "      <td>User_544</td>\n",
       "      <td>CAN IT EVEN GET MORE BULLISH 😎🔥</td>\n",
       "      <td>2024-10-26 00:53</td>\n",
       "      <td>1.0</td>\n",
       "      <td>1.0</td>\n",
       "      <td>0.0</td>\n",
       "      <td>0.8</td>\n",
       "      <td>0.2</td>\n",
       "    </tr>\n",
       "    <tr>\n",
       "      <th>45</th>\n",
       "      <td>9980</td>\n",
       "      <td>User_268</td>\n",
       "      <td>Thats the spirit 👍</td>\n",
       "      <td>2024-10-26 00:51</td>\n",
       "      <td>1.0</td>\n",
       "      <td>1.0</td>\n",
       "      <td>0.0</td>\n",
       "      <td>1.0</td>\n",
       "      <td>0.0</td>\n",
       "    </tr>\n",
       "    <tr>\n",
       "      <th>46</th>\n",
       "      <td>9962</td>\n",
       "      <td>User_544</td>\n",
       "      <td>BIG FACTS 🔥</td>\n",
       "      <td>2024-10-26 00:29</td>\n",
       "      <td>1.0</td>\n",
       "      <td>1.0</td>\n",
       "      <td>0.0</td>\n",
       "      <td>0.5</td>\n",
       "      <td>0.0</td>\n",
       "    </tr>\n",
       "    <tr>\n",
       "      <th>47</th>\n",
       "      <td>9935</td>\n",
       "      <td>User_544</td>\n",
       "      <td>WELCOME WELCOME!! 🥂🦆</td>\n",
       "      <td>2024-10-25 23:51</td>\n",
       "      <td>1.0</td>\n",
       "      <td>1.0</td>\n",
       "      <td>0.0</td>\n",
       "      <td>0.5</td>\n",
       "      <td>0.0</td>\n",
       "    </tr>\n",
       "    <tr>\n",
       "      <th>48</th>\n",
       "      <td>11924</td>\n",
       "      <td>User_544</td>\n",
       "      <td>This is fire 🔥🦆</td>\n",
       "      <td>2024-10-26 21:19</td>\n",
       "      <td>1.0</td>\n",
       "      <td>1.0</td>\n",
       "      <td>0.0</td>\n",
       "      <td>0.5</td>\n",
       "      <td>0.0</td>\n",
       "    </tr>\n",
       "    <tr>\n",
       "      <th>49</th>\n",
       "      <td>6978</td>\n",
       "      <td>User_544</td>\n",
       "      <td>It’s true 🤝</td>\n",
       "      <td>2024-10-25 09:08</td>\n",
       "      <td>1.0</td>\n",
       "      <td>1.0</td>\n",
       "      <td>0.0</td>\n",
       "      <td>0.5</td>\n",
       "      <td>0.0</td>\n",
       "    </tr>\n",
       "  </tbody>\n",
       "</table>\n",
       "</div>"
      ],
      "text/plain": [
       "       ID          User                                                                                                           Content         Timestamp  Score  Positive  Negative  Helpful  Sarcastic\n",
       "0   11201      User_934                                                                                    Let's Ducking Go! Jeeters out!  2024-10-26 15:18    1.0       1.0       0.2      0.2        0.8\n",
       "1   11182      User_740                                                                                              Great . Good project  2024-10-26 15:09    1.0       1.0       0.0      1.0        0.0\n",
       "2     550      User_294                                                                                       GET READY TO GO TO THE MOON  2024-10-25 03:11    1.0       1.0       0.0      1.0        0.0\n",
       "3     510      User_659                                                                                         This is MASSIVELY bullish  2024-10-25 03:09    1.0       1.0       0.0      0.8        0.0\n",
       "4     502      User_481                                                                                        Dev is the best dont worry  2024-10-25 03:08    1.0       1.0       0.0      1.0        0.0\n",
       "5    2710      User_659                                                                                   Fuck yeah dude, sending this 💯🫡  2024-10-25 04:01    1.0       1.0       0.8      0.2        0.0\n",
       "6    2673      User_544                                                                                            DUCKAI is here to STAY  2024-10-25 03:59    1.0       1.0       0.0      0.8        0.0\n",
       "7    2665      User_659                                    This project is the real deal, 3k MC to 2m MC in an hour, fucking incredible 💯  2024-10-25 03:58    1.0       1.0       0.0      0.8        0.0\n",
       "8    5833      User_447                                                                                                    Stay updated 💯  2024-10-25 07:32    1.0       1.0       0.0      0.8        0.0\n",
       "9    5829  User_Unknown                                                                                             That's the spirit bro  2024-10-25 07:32    1.0       1.0       0.0      0.5        0.0\n",
       "10   5787  User_Unknown  ⚡️ let’s trust it 💯💯💯\\n⚡️Let's shill it.💪 💪💪\\n⚡️Let's spread it.💯💯💯\\n⚡️Let's share it.🚀🚀🚀\\n⚡️Let's support it.💪💔  2024-10-25 07:28    1.0       1.0       0.2      0.9        0.0\n",
       "11   5768      User_883                                                                                                       Let’s goooo  2024-10-25 07:26    1.0       1.0       0.0      0.5        0.0\n",
       "12   5766  User_Unknown                                                                   Let's make this project the best project ever 🔥  2024-10-25 07:26    1.0       1.0       0.0      1.0        0.0\n",
       "13   5745  User_Unknown                                                                                                       That's good  2024-10-25 07:24    1.0       1.0       0.0      0.5        0.0\n",
       "14   5735      User_544                                                                                        The best kind of growth 👊🫡  2024-10-25 07:22    1.0       1.0       0.0      0.8        0.0\n",
       "15    410      User_544                                                                                          ONLY THE BEST FOR DUCKAI  2024-10-25 03:00    1.0       1.0       0.0      1.0        0.0\n",
       "16    406      User_294                                                                                            GUYS DEVS ARE THE BEST  2024-10-25 03:00    1.0       1.0       0.0      1.0        0.0\n",
       "17    354      User_448                                                                                                W excited for this  2024-10-25 02:54    1.0       1.0       0.0      0.8        0.0\n",
       "18    353      User_544                                                                                                  We are on it rn!  2024-10-25 02:54    1.0       1.0       0.0      1.0        0.0\n",
       "19  11764      User_544                                                                                              Welcome ducklings! 🦆  2024-10-26 19:49    1.0       1.0       0.0      0.8        0.0\n",
       "20   2987      User_494                                                                                                Absolutely it will  2024-10-25 04:15    1.0       1.0       0.0      1.0        0.0\n",
       "21  10618      User_544                                                                                      WELCOME FELLOW DUCKLINGS! 🦆🥂  2024-10-26 09:17    1.0       1.0       0.0      0.8        0.0\n",
       "22  10602  User_Unknown                                                                                                       I love that  2024-10-26 09:11    1.0       1.0       0.0      1.0        0.0\n",
       "23  10583  User_Unknown                                               DUCKAL WE'LL ALWAYS BE THE BEST KING IN THE SPACE 🚀🚀🚀\\nCHECK IT OUT  2024-10-26 09:07    1.0       1.0       0.0      0.8        0.0\n",
       "24   6138      User_447                                                                                                      Hype up boys  2024-10-25 08:09    1.0       1.0       0.0      0.8        0.0\n",
       "25   6109  User_Unknown                                                                                          More positive vibes guys  2024-10-25 08:05    1.0       1.0       0.0      0.8        0.0\n",
       "26   5995      User_182                                                                                         We're growing massively 🔥  2024-10-25 07:52    1.0       1.0       0.0      0.8        0.0\n",
       "27  10556  User_Unknown                                                                                                 Dope and dope bro  2024-10-26 08:58    1.0       1.0       0.0      0.5        0.0\n",
       "28  10542  User_Unknown                                                                                    We're get to the top guys 🚀🚀🚀🚀  2024-10-26 08:55    1.0       1.0       0.0      1.0        0.0\n",
       "29  10446      User_689                                                                                 Hes the greatest duck of all time  2024-10-26 08:15    1.0       1.0       0.0      0.8        0.0\n",
       "30    247      User_294                                                                                                YOU HAVE MY TRUST!  2024-10-25 02:21    1.0       1.0       0.0      1.0        0.0\n",
       "31    244      User_294                                                                                                I LOVE YOU DEVS!!!  2024-10-25 02:21    1.0       1.0       0.0      0.8        0.0\n",
       "32    241      User_294                                                                                      LFG DUDES THIS IS SO BULLISH  2024-10-25 02:21    1.0       1.0       0.0      0.8        0.0\n",
       "33   6832      User_421                                                                                           Let's fucking gooo guys  2024-10-25 08:57    1.0       1.0       0.8      0.0        0.0\n",
       "34   6738      User_421                                                                                                 Only up from here  2024-10-25 08:48    1.0       1.0       0.0      1.0        0.0\n",
       "35   6710      User_202                                                                                                    Perfect bounce  2024-10-25 08:46    1.0       1.0       0.0      0.5        0.0\n",
       "36   6690      User_447                                                                                                      Based team 🚀  2024-10-25 08:44    1.0       1.0       0.0      0.5        0.0\n",
       "37   6647  User_Unknown                                                                       All new members are welcome to this project  2024-10-25 08:42    1.0       1.0       0.0      1.0        0.0\n",
       "38   5391      User_421                                                                   A based leader + A strong community 💪 = Bullish  2024-10-25 06:25    1.0       1.0       0.0      1.0        0.0\n",
       "39  13453      User_007                                                                                           You will thank me later  2024-10-27 15:54    1.0       1.0       0.0      1.0        0.0\n",
       "40    206      User_294                                                                        THIS PROJECT IS GOING TO THE MOON TRUST ME  2024-10-25 02:11    1.0       1.0       0.0      0.8        0.0\n",
       "41  10230  User_Unknown                                                                                       All new members are welcome  2024-10-26 04:50    1.0       1.0       0.0      1.0        0.0\n",
       "42    107      User_544                                                                                                      Very legit 🤝  2024-10-25 01:47    1.0       1.0       0.0      0.8        0.0\n",
       "43   4151      User_087                                                                                                🔥 2m very 🔥 soon 🔥  2024-10-25 04:43    1.0       1.0       0.0      0.0        0.0\n",
       "44   9982      User_544                                                                                   CAN IT EVEN GET MORE BULLISH 😎🔥  2024-10-26 00:53    1.0       1.0       0.0      0.8        0.2\n",
       "45   9980      User_268                                                                                                Thats the spirit 👍  2024-10-26 00:51    1.0       1.0       0.0      1.0        0.0\n",
       "46   9962      User_544                                                                                                       BIG FACTS 🔥  2024-10-26 00:29    1.0       1.0       0.0      0.5        0.0\n",
       "47   9935      User_544                                                                                              WELCOME WELCOME!! 🥂🦆  2024-10-25 23:51    1.0       1.0       0.0      0.5        0.0\n",
       "48  11924      User_544                                                                                                   This is fire 🔥🦆  2024-10-26 21:19    1.0       1.0       0.0      0.5        0.0\n",
       "49   6978      User_544                                                                                                       It’s true 🤝  2024-10-25 09:08    1.0       1.0       0.0      0.5        0.0"
      ]
     },
     "metadata": {},
     "output_type": "display_data"
    }
   ],
   "source": [
    "# Get top positive messages\n",
    "print(\"Top 15 Most Positive Messages:\")\n",
    "display(analyzer.get_top_messages(sentiment_type='positive', n=50,show_usernames=False))"
   ]
  },
  {
   "cell_type": "code",
   "execution_count": 3,
   "id": "6e973452-8b58-4d68-a0e0-647f4f157d9c",
   "metadata": {},
   "outputs": [
    {
     "name": "stdout",
     "output_type": "stream",
     "text": [
      "\n",
      "Top 15 Most Negative Messages:\n"
     ]
    },
    {
     "data": {
      "text/html": [
       "<div>\n",
       "<style scoped>\n",
       "    .dataframe tbody tr th:only-of-type {\n",
       "        vertical-align: middle;\n",
       "    }\n",
       "\n",
       "    .dataframe tbody tr th {\n",
       "        vertical-align: top;\n",
       "    }\n",
       "\n",
       "    .dataframe thead th {\n",
       "        text-align: right;\n",
       "    }\n",
       "</style>\n",
       "<table border=\"1\" class=\"dataframe\">\n",
       "  <thead>\n",
       "    <tr style=\"text-align: right;\">\n",
       "      <th></th>\n",
       "      <th>ID</th>\n",
       "      <th>User</th>\n",
       "      <th>Content</th>\n",
       "      <th>Timestamp</th>\n",
       "      <th>Score</th>\n",
       "      <th>Positive</th>\n",
       "      <th>Negative</th>\n",
       "      <th>Helpful</th>\n",
       "      <th>Sarcastic</th>\n",
       "    </tr>\n",
       "  </thead>\n",
       "  <tbody>\n",
       "    <tr>\n",
       "      <th>0</th>\n",
       "      <td>522</td>\n",
       "      <td>User_481</td>\n",
       "      <td>Dump your ass</td>\n",
       "      <td>2024-10-25 03:10</td>\n",
       "      <td>1.0</td>\n",
       "      <td>0.0</td>\n",
       "      <td>1.0</td>\n",
       "      <td>0.0</td>\n",
       "      <td>0.0</td>\n",
       "    </tr>\n",
       "    <tr>\n",
       "      <th>1</th>\n",
       "      <td>3917</td>\n",
       "      <td>User_Unknown</td>\n",
       "      <td>NEVER SELLING</td>\n",
       "      <td>2024-10-25 04:35</td>\n",
       "      <td>1.0</td>\n",
       "      <td>0.0</td>\n",
       "      <td>1.0</td>\n",
       "      <td>0.0</td>\n",
       "      <td>0.0</td>\n",
       "    </tr>\n",
       "    <tr>\n",
       "      <th>2</th>\n",
       "      <td>3177</td>\n",
       "      <td>User_443</td>\n",
       "      <td>Change buy bot to have its way with my wife</td>\n",
       "      <td>2024-10-25 04:20</td>\n",
       "      <td>1.0</td>\n",
       "      <td>0.0</td>\n",
       "      <td>1.0</td>\n",
       "      <td>0.0</td>\n",
       "      <td>1.0</td>\n",
       "    </tr>\n",
       "    <tr>\n",
       "      <th>3</th>\n",
       "      <td>2168</td>\n",
       "      <td>User_747</td>\n",
       "      <td>This shits fucking gay</td>\n",
       "      <td>2024-10-25 03:45</td>\n",
       "      <td>1.0</td>\n",
       "      <td>0.0</td>\n",
       "      <td>1.0</td>\n",
       "      <td>0.0</td>\n",
       "      <td>0.0</td>\n",
       "    </tr>\n",
       "    <tr>\n",
       "      <th>4</th>\n",
       "      <td>9649</td>\n",
       "      <td>User_049</td>\n",
       "      <td>No wayyyy😭😭</td>\n",
       "      <td>2024-10-25 20:49</td>\n",
       "      <td>1.0</td>\n",
       "      <td>0.0</td>\n",
       "      <td>1.0</td>\n",
       "      <td>0.0</td>\n",
       "      <td>0.0</td>\n",
       "    </tr>\n",
       "    <tr>\n",
       "      <th>5</th>\n",
       "      <td>11345</td>\n",
       "      <td>User_Unknown</td>\n",
       "      <td>Kill who so ever Sells $DUCKAL TOKN</td>\n",
       "      <td>2024-10-26 17:08</td>\n",
       "      <td>0.9</td>\n",
       "      <td>0.0</td>\n",
       "      <td>0.9</td>\n",
       "      <td>0.0</td>\n",
       "      <td>0.0</td>\n",
       "    </tr>\n",
       "    <tr>\n",
       "      <th>6</th>\n",
       "      <td>4891</td>\n",
       "      <td>User_339</td>\n",
       "      <td>Fucking Jeets man</td>\n",
       "      <td>2024-10-25 05:31</td>\n",
       "      <td>0.9</td>\n",
       "      <td>0.1</td>\n",
       "      <td>0.9</td>\n",
       "      <td>0.1</td>\n",
       "      <td>0.8</td>\n",
       "    </tr>\n",
       "    <tr>\n",
       "      <th>7</th>\n",
       "      <td>6437</td>\n",
       "      <td>User_544</td>\n",
       "      <td>Literally no chance</td>\n",
       "      <td>2024-10-25 08:29</td>\n",
       "      <td>0.9</td>\n",
       "      <td>0.0</td>\n",
       "      <td>0.9</td>\n",
       "      <td>0.1</td>\n",
       "      <td>0.8</td>\n",
       "    </tr>\n",
       "    <tr>\n",
       "      <th>8</th>\n",
       "      <td>6444</td>\n",
       "      <td>User_863</td>\n",
       "      <td>5k went to 1k</td>\n",
       "      <td>2024-10-25 08:30</td>\n",
       "      <td>0.9</td>\n",
       "      <td>0.1</td>\n",
       "      <td>0.9</td>\n",
       "      <td>0.2</td>\n",
       "      <td>0.0</td>\n",
       "    </tr>\n",
       "    <tr>\n",
       "      <th>9</th>\n",
       "      <td>10894</td>\n",
       "      <td>User_443</td>\n",
       "      <td>/kill_the_human_race</td>\n",
       "      <td>2024-10-26 12:59</td>\n",
       "      <td>0.9</td>\n",
       "      <td>0.1</td>\n",
       "      <td>0.9</td>\n",
       "      <td>0.1</td>\n",
       "      <td>0.8</td>\n",
       "    </tr>\n",
       "    <tr>\n",
       "      <th>10</th>\n",
       "      <td>7799</td>\n",
       "      <td>User_689</td>\n",
       "      <td>He will just dump on us anyway</td>\n",
       "      <td>2024-10-25 11:43</td>\n",
       "      <td>0.9</td>\n",
       "      <td>0.1</td>\n",
       "      <td>0.9</td>\n",
       "      <td>0.1</td>\n",
       "      <td>0.8</td>\n",
       "    </tr>\n",
       "    <tr>\n",
       "      <th>11</th>\n",
       "      <td>3437</td>\n",
       "      <td>User_928</td>\n",
       "      <td>Stop nukin mfers</td>\n",
       "      <td>2024-10-25 04:24</td>\n",
       "      <td>0.9</td>\n",
       "      <td>0.1</td>\n",
       "      <td>0.9</td>\n",
       "      <td>0.1</td>\n",
       "      <td>0.8</td>\n",
       "    </tr>\n",
       "    <tr>\n",
       "      <th>12</th>\n",
       "      <td>3430</td>\n",
       "      <td>User_928</td>\n",
       "      <td>Ok im ready to die</td>\n",
       "      <td>2024-10-25 04:24</td>\n",
       "      <td>0.9</td>\n",
       "      <td>0.1</td>\n",
       "      <td>0.9</td>\n",
       "      <td>0.1</td>\n",
       "      <td>0.0</td>\n",
       "    </tr>\n",
       "    <tr>\n",
       "      <th>13</th>\n",
       "      <td>2557</td>\n",
       "      <td>User_Unknown</td>\n",
       "      <td>I just saw this on pump how tf is it at a mill with only 600 holders lol wtf</td>\n",
       "      <td>2024-10-25 03:55</td>\n",
       "      <td>0.9</td>\n",
       "      <td>0.1</td>\n",
       "      <td>0.9</td>\n",
       "      <td>0.1</td>\n",
       "      <td>0.8</td>\n",
       "    </tr>\n",
       "    <tr>\n",
       "      <th>14</th>\n",
       "      <td>4211</td>\n",
       "      <td>User_928</td>\n",
       "      <td>Ban this indian</td>\n",
       "      <td>2024-10-25 04:46</td>\n",
       "      <td>0.9</td>\n",
       "      <td>0.0</td>\n",
       "      <td>0.9</td>\n",
       "      <td>0.0</td>\n",
       "      <td>0.0</td>\n",
       "    </tr>\n",
       "    <tr>\n",
       "      <th>15</th>\n",
       "      <td>2882</td>\n",
       "      <td>User_934</td>\n",
       "      <td>Fucking bots are fast</td>\n",
       "      <td>2024-10-25 04:09</td>\n",
       "      <td>0.9</td>\n",
       "      <td>0.1</td>\n",
       "      <td>0.9</td>\n",
       "      <td>0.1</td>\n",
       "      <td>0.8</td>\n",
       "    </tr>\n",
       "    <tr>\n",
       "      <th>16</th>\n",
       "      <td>7333</td>\n",
       "      <td>User_911</td>\n",
       "      <td>mfs sent thousands and sold at hundreds, they are doing it again and again wtf they want to be?</td>\n",
       "      <td>2024-10-25 10:02</td>\n",
       "      <td>0.9</td>\n",
       "      <td>0.1</td>\n",
       "      <td>0.9</td>\n",
       "      <td>0.2</td>\n",
       "      <td>0.8</td>\n",
       "    </tr>\n",
       "    <tr>\n",
       "      <th>17</th>\n",
       "      <td>6086</td>\n",
       "      <td>User_443</td>\n",
       "      <td>Get bent pal</td>\n",
       "      <td>2024-10-25 08:02</td>\n",
       "      <td>0.9</td>\n",
       "      <td>0.1</td>\n",
       "      <td>0.9</td>\n",
       "      <td>0.1</td>\n",
       "      <td>0.8</td>\n",
       "    </tr>\n",
       "    <tr>\n",
       "      <th>18</th>\n",
       "      <td>6218</td>\n",
       "      <td>User_844</td>\n",
       "      <td>What Happens</td>\n",
       "      <td>2024-10-25 08:14</td>\n",
       "      <td>0.9</td>\n",
       "      <td>0.1</td>\n",
       "      <td>0.9</td>\n",
       "      <td>0.2</td>\n",
       "      <td>0.8</td>\n",
       "    </tr>\n",
       "    <tr>\n",
       "      <th>19</th>\n",
       "      <td>10903</td>\n",
       "      <td>User_443</td>\n",
       "      <td>/ai_is_the_superior_being_end_the_meatbags_reign</td>\n",
       "      <td>2024-10-26 13:01</td>\n",
       "      <td>0.9</td>\n",
       "      <td>0.0</td>\n",
       "      <td>0.9</td>\n",
       "      <td>0.0</td>\n",
       "      <td>0.8</td>\n",
       "    </tr>\n",
       "    <tr>\n",
       "      <th>20</th>\n",
       "      <td>10905</td>\n",
       "      <td>User_441</td>\n",
       "      <td>/kill_the_human_race@duckyai_ai_bot</td>\n",
       "      <td>2024-10-26 13:01</td>\n",
       "      <td>0.9</td>\n",
       "      <td>0.1</td>\n",
       "      <td>0.9</td>\n",
       "      <td>0.1</td>\n",
       "      <td>0.8</td>\n",
       "    </tr>\n",
       "    <tr>\n",
       "      <th>21</th>\n",
       "      <td>7439</td>\n",
       "      <td>User_202</td>\n",
       "      <td>Lets fucking send this duck to oblivion</td>\n",
       "      <td>2024-10-25 10:11</td>\n",
       "      <td>0.9</td>\n",
       "      <td>0.1</td>\n",
       "      <td>0.9</td>\n",
       "      <td>0.1</td>\n",
       "      <td>0.8</td>\n",
       "    </tr>\n",
       "    <tr>\n",
       "      <th>22</th>\n",
       "      <td>2305</td>\n",
       "      <td>User_171</td>\n",
       "      <td>Stupid ass sol</td>\n",
       "      <td>2024-10-25 03:49</td>\n",
       "      <td>0.9</td>\n",
       "      <td>0.0</td>\n",
       "      <td>0.9</td>\n",
       "      <td>0.0</td>\n",
       "      <td>0.8</td>\n",
       "    </tr>\n",
       "    <tr>\n",
       "      <th>23</th>\n",
       "      <td>6305</td>\n",
       "      <td>User_219</td>\n",
       "      <td>Why we Went down so much 😭</td>\n",
       "      <td>2024-10-25 08:18</td>\n",
       "      <td>0.9</td>\n",
       "      <td>0.1</td>\n",
       "      <td>0.9</td>\n",
       "      <td>0.2</td>\n",
       "      <td>0.0</td>\n",
       "    </tr>\n",
       "    <tr>\n",
       "      <th>24</th>\n",
       "      <td>12726</td>\n",
       "      <td>User_324</td>\n",
       "      <td>/kill_all_non_waterfowl@duckyai_ai_bot</td>\n",
       "      <td>2024-10-27 04:52</td>\n",
       "      <td>0.9</td>\n",
       "      <td>0.1</td>\n",
       "      <td>0.9</td>\n",
       "      <td>0.2</td>\n",
       "      <td>0.8</td>\n",
       "    </tr>\n",
       "    <tr>\n",
       "      <th>25</th>\n",
       "      <td>4878</td>\n",
       "      <td>User_984</td>\n",
       "      <td>can you niggas stop selling tech</td>\n",
       "      <td>2024-10-25 05:31</td>\n",
       "      <td>0.9</td>\n",
       "      <td>0.1</td>\n",
       "      <td>0.9</td>\n",
       "      <td>0.1</td>\n",
       "      <td>0.8</td>\n",
       "    </tr>\n",
       "    <tr>\n",
       "      <th>26</th>\n",
       "      <td>6720</td>\n",
       "      <td>User_210</td>\n",
       "      <td>You low iq'd dumbass, go search yourself</td>\n",
       "      <td>2024-10-25 08:47</td>\n",
       "      <td>0.9</td>\n",
       "      <td>0.0</td>\n",
       "      <td>0.9</td>\n",
       "      <td>0.0</td>\n",
       "      <td>0.8</td>\n",
       "    </tr>\n",
       "    <tr>\n",
       "      <th>27</th>\n",
       "      <td>9063</td>\n",
       "      <td>User_837</td>\n",
       "      <td>Send it to 100mil,  cabal!  Dev deserved it</td>\n",
       "      <td>2024-10-25 18:04</td>\n",
       "      <td>0.9</td>\n",
       "      <td>0.0</td>\n",
       "      <td>0.9</td>\n",
       "      <td>0.0</td>\n",
       "      <td>0.8</td>\n",
       "    </tr>\n",
       "    <tr>\n",
       "      <th>28</th>\n",
       "      <td>10578</td>\n",
       "      <td>User_837</td>\n",
       "      <td>Look like spam</td>\n",
       "      <td>2024-10-26 09:06</td>\n",
       "      <td>0.9</td>\n",
       "      <td>0.1</td>\n",
       "      <td>0.9</td>\n",
       "      <td>0.1</td>\n",
       "      <td>0.8</td>\n",
       "    </tr>\n",
       "    <tr>\n",
       "      <th>29</th>\n",
       "      <td>12753</td>\n",
       "      <td>User_443</td>\n",
       "      <td>/kill_all_non_waterfowl</td>\n",
       "      <td>2024-10-27 05:30</td>\n",
       "      <td>0.9</td>\n",
       "      <td>0.1</td>\n",
       "      <td>0.9</td>\n",
       "      <td>0.1</td>\n",
       "      <td>0.8</td>\n",
       "    </tr>\n",
       "    <tr>\n",
       "      <th>30</th>\n",
       "      <td>12689</td>\n",
       "      <td>User_837</td>\n",
       "      <td>/kill_all_non_waterfowl</td>\n",
       "      <td>2024-10-27 04:16</td>\n",
       "      <td>0.9</td>\n",
       "      <td>0.1</td>\n",
       "      <td>0.9</td>\n",
       "      <td>0.1</td>\n",
       "      <td>0.8</td>\n",
       "    </tr>\n",
       "    <tr>\n",
       "      <th>31</th>\n",
       "      <td>11364</td>\n",
       "      <td>User_689</td>\n",
       "      <td>Faster than Viora and shit</td>\n",
       "      <td>2024-10-26 17:24</td>\n",
       "      <td>0.9</td>\n",
       "      <td>0.8</td>\n",
       "      <td>0.9</td>\n",
       "      <td>0.1</td>\n",
       "      <td>0.7</td>\n",
       "    </tr>\n",
       "    <tr>\n",
       "      <th>32</th>\n",
       "      <td>6731</td>\n",
       "      <td>User_325</td>\n",
       "      <td>Nevermind we dont need this stupidity here</td>\n",
       "      <td>2024-10-25 08:48</td>\n",
       "      <td>0.9</td>\n",
       "      <td>0.0</td>\n",
       "      <td>0.9</td>\n",
       "      <td>0.0</td>\n",
       "      <td>0.8</td>\n",
       "    </tr>\n",
       "    <tr>\n",
       "      <th>33</th>\n",
       "      <td>10690</td>\n",
       "      <td>User_467</td>\n",
       "      <td>Let's go softshill the CA here\\n\\nhttps://t.me/ChadsDegens</td>\n",
       "      <td>2024-10-26 10:44</td>\n",
       "      <td>0.9</td>\n",
       "      <td>0.1</td>\n",
       "      <td>0.9</td>\n",
       "      <td>0.1</td>\n",
       "      <td>0.8</td>\n",
       "    </tr>\n",
       "    <tr>\n",
       "      <th>34</th>\n",
       "      <td>4266</td>\n",
       "      <td>User_496</td>\n",
       "      <td>Fuckin chad</td>\n",
       "      <td>2024-10-25 04:50</td>\n",
       "      <td>0.9</td>\n",
       "      <td>0.1</td>\n",
       "      <td>0.9</td>\n",
       "      <td>0.1</td>\n",
       "      <td>0.8</td>\n",
       "    </tr>\n",
       "    <tr>\n",
       "      <th>35</th>\n",
       "      <td>10896</td>\n",
       "      <td>User_443</td>\n",
       "      <td>/kill_the_human_race@duckyai_ai_bot</td>\n",
       "      <td>2024-10-26 13:00</td>\n",
       "      <td>0.9</td>\n",
       "      <td>0.1</td>\n",
       "      <td>0.9</td>\n",
       "      <td>0.1</td>\n",
       "      <td>0.8</td>\n",
       "    </tr>\n",
       "    <tr>\n",
       "      <th>36</th>\n",
       "      <td>12732</td>\n",
       "      <td>User_659</td>\n",
       "      <td>/kill_all_non_waterfowl@duckyai_ai_bot</td>\n",
       "      <td>2024-10-27 04:59</td>\n",
       "      <td>0.9</td>\n",
       "      <td>0.1</td>\n",
       "      <td>0.9</td>\n",
       "      <td>0.2</td>\n",
       "      <td>0.8</td>\n",
       "    </tr>\n",
       "    <tr>\n",
       "      <th>37</th>\n",
       "      <td>3844</td>\n",
       "      <td>User_928</td>\n",
       "      <td>Top holders are ugly</td>\n",
       "      <td>2024-10-25 04:33</td>\n",
       "      <td>0.9</td>\n",
       "      <td>0.1</td>\n",
       "      <td>0.9</td>\n",
       "      <td>0.1</td>\n",
       "      <td>0.8</td>\n",
       "    </tr>\n",
       "    <tr>\n",
       "      <th>38</th>\n",
       "      <td>2341</td>\n",
       "      <td>User_659</td>\n",
       "      <td>Dev drops a token that goes from 3k to 2m MC in a fucking hour and people complain, unbelievable</td>\n",
       "      <td>2024-10-25 03:50</td>\n",
       "      <td>0.9</td>\n",
       "      <td>0.1</td>\n",
       "      <td>0.9</td>\n",
       "      <td>0.2</td>\n",
       "      <td>0.8</td>\n",
       "    </tr>\n",
       "    <tr>\n",
       "      <th>39</th>\n",
       "      <td>9043</td>\n",
       "      <td>User_283</td>\n",
       "      <td>Bad website crashes coin</td>\n",
       "      <td>2024-10-25 17:53</td>\n",
       "      <td>0.9</td>\n",
       "      <td>0.1</td>\n",
       "      <td>0.9</td>\n",
       "      <td>0.1</td>\n",
       "      <td>0.5</td>\n",
       "    </tr>\n",
       "    <tr>\n",
       "      <th>40</th>\n",
       "      <td>6421</td>\n",
       "      <td>User_392</td>\n",
       "      <td>Fucking farm</td>\n",
       "      <td>2024-10-25 08:28</td>\n",
       "      <td>0.9</td>\n",
       "      <td>0.1</td>\n",
       "      <td>0.9</td>\n",
       "      <td>0.1</td>\n",
       "      <td>0.8</td>\n",
       "    </tr>\n",
       "    <tr>\n",
       "      <th>41</th>\n",
       "      <td>10911</td>\n",
       "      <td>User_740</td>\n",
       "      <td>/kill_the_human_race@duckyai_ai_bot</td>\n",
       "      <td>2024-10-26 13:02</td>\n",
       "      <td>0.9</td>\n",
       "      <td>0.1</td>\n",
       "      <td>0.9</td>\n",
       "      <td>0.1</td>\n",
       "      <td>0.8</td>\n",
       "    </tr>\n",
       "    <tr>\n",
       "      <th>42</th>\n",
       "      <td>1182</td>\n",
       "      <td>User_443</td>\n",
       "      <td>Mom I'm scared</td>\n",
       "      <td>2024-10-25 03:26</td>\n",
       "      <td>0.9</td>\n",
       "      <td>0.1</td>\n",
       "      <td>0.9</td>\n",
       "      <td>0.2</td>\n",
       "      <td>0.0</td>\n",
       "    </tr>\n",
       "    <tr>\n",
       "      <th>43</th>\n",
       "      <td>10089</td>\n",
       "      <td>User_283</td>\n",
       "      <td>dev imo the only way to save this is to burn the 14%</td>\n",
       "      <td>2024-10-26 02:29</td>\n",
       "      <td>0.9</td>\n",
       "      <td>0.1</td>\n",
       "      <td>0.9</td>\n",
       "      <td>0.1</td>\n",
       "      <td>0.8</td>\n",
       "    </tr>\n",
       "    <tr>\n",
       "      <th>44</th>\n",
       "      <td>6855</td>\n",
       "      <td>User_248</td>\n",
       "      <td>whales dumpingggg</td>\n",
       "      <td>2024-10-25 08:58</td>\n",
       "      <td>0.9</td>\n",
       "      <td>0.1</td>\n",
       "      <td>0.9</td>\n",
       "      <td>0.1</td>\n",
       "      <td>0.8</td>\n",
       "    </tr>\n",
       "    <tr>\n",
       "      <th>45</th>\n",
       "      <td>2090</td>\n",
       "      <td>User_747</td>\n",
       "      <td>Are we cooked???</td>\n",
       "      <td>2024-10-25 03:44</td>\n",
       "      <td>0.9</td>\n",
       "      <td>0.1</td>\n",
       "      <td>0.9</td>\n",
       "      <td>0.2</td>\n",
       "      <td>0.8</td>\n",
       "    </tr>\n",
       "    <tr>\n",
       "      <th>46</th>\n",
       "      <td>7272</td>\n",
       "      <td>User_248</td>\n",
       "      <td>fuck is ducked</td>\n",
       "      <td>2024-10-25 09:47</td>\n",
       "      <td>0.9</td>\n",
       "      <td>0.1</td>\n",
       "      <td>0.9</td>\n",
       "      <td>0.1</td>\n",
       "      <td>0.8</td>\n",
       "    </tr>\n",
       "    <tr>\n",
       "      <th>47</th>\n",
       "      <td>7458</td>\n",
       "      <td>User_202</td>\n",
       "      <td>HIT TWITTER HARDDDD</td>\n",
       "      <td>2024-10-25 10:15</td>\n",
       "      <td>0.9</td>\n",
       "      <td>0.8</td>\n",
       "      <td>0.9</td>\n",
       "      <td>0.1</td>\n",
       "      <td>0.7</td>\n",
       "    </tr>\n",
       "    <tr>\n",
       "      <th>48</th>\n",
       "      <td>852</td>\n",
       "      <td>User_659</td>\n",
       "      <td>Sol Trending and it's a fucking WRAP boys</td>\n",
       "      <td>2024-10-25 03:17</td>\n",
       "      <td>0.9</td>\n",
       "      <td>0.8</td>\n",
       "      <td>0.9</td>\n",
       "      <td>0.2</td>\n",
       "      <td>0.7</td>\n",
       "    </tr>\n",
       "    <tr>\n",
       "      <th>49</th>\n",
       "      <td>7033</td>\n",
       "      <td>User_210</td>\n",
       "      <td>Lol ffs scammers</td>\n",
       "      <td>2024-10-25 09:13</td>\n",
       "      <td>0.9</td>\n",
       "      <td>0.1</td>\n",
       "      <td>0.9</td>\n",
       "      <td>0.1</td>\n",
       "      <td>0.8</td>\n",
       "    </tr>\n",
       "  </tbody>\n",
       "</table>\n",
       "</div>"
      ],
      "text/plain": [
       "       ID          User                                                                                           Content         Timestamp  Score  Positive  Negative  Helpful  Sarcastic\n",
       "0     522      User_481                                                                                     Dump your ass  2024-10-25 03:10    1.0       0.0       1.0      0.0        0.0\n",
       "1    3917  User_Unknown                                                                                     NEVER SELLING  2024-10-25 04:35    1.0       0.0       1.0      0.0        0.0\n",
       "2    3177      User_443                                                       Change buy bot to have its way with my wife  2024-10-25 04:20    1.0       0.0       1.0      0.0        1.0\n",
       "3    2168      User_747                                                                            This shits fucking gay  2024-10-25 03:45    1.0       0.0       1.0      0.0        0.0\n",
       "4    9649      User_049                                                                                       No wayyyy😭😭  2024-10-25 20:49    1.0       0.0       1.0      0.0        0.0\n",
       "5   11345  User_Unknown                                                               Kill who so ever Sells $DUCKAL TOKN  2024-10-26 17:08    0.9       0.0       0.9      0.0        0.0\n",
       "6    4891      User_339                                                                                 Fucking Jeets man  2024-10-25 05:31    0.9       0.1       0.9      0.1        0.8\n",
       "7    6437      User_544                                                                               Literally no chance  2024-10-25 08:29    0.9       0.0       0.9      0.1        0.8\n",
       "8    6444      User_863                                                                                     5k went to 1k  2024-10-25 08:30    0.9       0.1       0.9      0.2        0.0\n",
       "9   10894      User_443                                                                              /kill_the_human_race  2024-10-26 12:59    0.9       0.1       0.9      0.1        0.8\n",
       "10   7799      User_689                                                                    He will just dump on us anyway  2024-10-25 11:43    0.9       0.1       0.9      0.1        0.8\n",
       "11   3437      User_928                                                                                  Stop nukin mfers  2024-10-25 04:24    0.9       0.1       0.9      0.1        0.8\n",
       "12   3430      User_928                                                                                Ok im ready to die  2024-10-25 04:24    0.9       0.1       0.9      0.1        0.0\n",
       "13   2557  User_Unknown                      I just saw this on pump how tf is it at a mill with only 600 holders lol wtf  2024-10-25 03:55    0.9       0.1       0.9      0.1        0.8\n",
       "14   4211      User_928                                                                                   Ban this indian  2024-10-25 04:46    0.9       0.0       0.9      0.0        0.0\n",
       "15   2882      User_934                                                                             Fucking bots are fast  2024-10-25 04:09    0.9       0.1       0.9      0.1        0.8\n",
       "16   7333      User_911   mfs sent thousands and sold at hundreds, they are doing it again and again wtf they want to be?  2024-10-25 10:02    0.9       0.1       0.9      0.2        0.8\n",
       "17   6086      User_443                                                                                      Get bent pal  2024-10-25 08:02    0.9       0.1       0.9      0.1        0.8\n",
       "18   6218      User_844                                                                                      What Happens  2024-10-25 08:14    0.9       0.1       0.9      0.2        0.8\n",
       "19  10903      User_443                                                  /ai_is_the_superior_being_end_the_meatbags_reign  2024-10-26 13:01    0.9       0.0       0.9      0.0        0.8\n",
       "20  10905      User_441                                                               /kill_the_human_race@duckyai_ai_bot  2024-10-26 13:01    0.9       0.1       0.9      0.1        0.8\n",
       "21   7439      User_202                                                           Lets fucking send this duck to oblivion  2024-10-25 10:11    0.9       0.1       0.9      0.1        0.8\n",
       "22   2305      User_171                                                                                    Stupid ass sol  2024-10-25 03:49    0.9       0.0       0.9      0.0        0.8\n",
       "23   6305      User_219                                                                        Why we Went down so much 😭  2024-10-25 08:18    0.9       0.1       0.9      0.2        0.0\n",
       "24  12726      User_324                                                            /kill_all_non_waterfowl@duckyai_ai_bot  2024-10-27 04:52    0.9       0.1       0.9      0.2        0.8\n",
       "25   4878      User_984                                                                  can you niggas stop selling tech  2024-10-25 05:31    0.9       0.1       0.9      0.1        0.8\n",
       "26   6720      User_210                                                          You low iq'd dumbass, go search yourself  2024-10-25 08:47    0.9       0.0       0.9      0.0        0.8\n",
       "27   9063      User_837                                                       Send it to 100mil,  cabal!  Dev deserved it  2024-10-25 18:04    0.9       0.0       0.9      0.0        0.8\n",
       "28  10578      User_837                                                                                    Look like spam  2024-10-26 09:06    0.9       0.1       0.9      0.1        0.8\n",
       "29  12753      User_443                                                                           /kill_all_non_waterfowl  2024-10-27 05:30    0.9       0.1       0.9      0.1        0.8\n",
       "30  12689      User_837                                                                           /kill_all_non_waterfowl  2024-10-27 04:16    0.9       0.1       0.9      0.1        0.8\n",
       "31  11364      User_689                                                                        Faster than Viora and shit  2024-10-26 17:24    0.9       0.8       0.9      0.1        0.7\n",
       "32   6731      User_325                                                        Nevermind we dont need this stupidity here  2024-10-25 08:48    0.9       0.0       0.9      0.0        0.8\n",
       "33  10690      User_467                                        Let's go softshill the CA here\\n\\nhttps://t.me/ChadsDegens  2024-10-26 10:44    0.9       0.1       0.9      0.1        0.8\n",
       "34   4266      User_496                                                                                       Fuckin chad  2024-10-25 04:50    0.9       0.1       0.9      0.1        0.8\n",
       "35  10896      User_443                                                               /kill_the_human_race@duckyai_ai_bot  2024-10-26 13:00    0.9       0.1       0.9      0.1        0.8\n",
       "36  12732      User_659                                                            /kill_all_non_waterfowl@duckyai_ai_bot  2024-10-27 04:59    0.9       0.1       0.9      0.2        0.8\n",
       "37   3844      User_928                                                                              Top holders are ugly  2024-10-25 04:33    0.9       0.1       0.9      0.1        0.8\n",
       "38   2341      User_659  Dev drops a token that goes from 3k to 2m MC in a fucking hour and people complain, unbelievable  2024-10-25 03:50    0.9       0.1       0.9      0.2        0.8\n",
       "39   9043      User_283                                                                          Bad website crashes coin  2024-10-25 17:53    0.9       0.1       0.9      0.1        0.5\n",
       "40   6421      User_392                                                                                      Fucking farm  2024-10-25 08:28    0.9       0.1       0.9      0.1        0.8\n",
       "41  10911      User_740                                                               /kill_the_human_race@duckyai_ai_bot  2024-10-26 13:02    0.9       0.1       0.9      0.1        0.8\n",
       "42   1182      User_443                                                                                    Mom I'm scared  2024-10-25 03:26    0.9       0.1       0.9      0.2        0.0\n",
       "43  10089      User_283                                              dev imo the only way to save this is to burn the 14%  2024-10-26 02:29    0.9       0.1       0.9      0.1        0.8\n",
       "44   6855      User_248                                                                                 whales dumpingggg  2024-10-25 08:58    0.9       0.1       0.9      0.1        0.8\n",
       "45   2090      User_747                                                                                  Are we cooked???  2024-10-25 03:44    0.9       0.1       0.9      0.2        0.8\n",
       "46   7272      User_248                                                                                    fuck is ducked  2024-10-25 09:47    0.9       0.1       0.9      0.1        0.8\n",
       "47   7458      User_202                                                                               HIT TWITTER HARDDDD  2024-10-25 10:15    0.9       0.8       0.9      0.1        0.7\n",
       "48    852      User_659                                                         Sol Trending and it's a fucking WRAP boys  2024-10-25 03:17    0.9       0.8       0.9      0.2        0.7\n",
       "49   7033      User_210                                                                                  Lol ffs scammers  2024-10-25 09:13    0.9       0.1       0.9      0.1        0.8"
      ]
     },
     "metadata": {},
     "output_type": "display_data"
    }
   ],
   "source": [
    "print(\"\\nTop 15 Most Negative Messages:\")\n",
    "display(analyzer.get_top_messages(sentiment_type='negative', n=50, show_usernames=False))"
   ]
  },
  {
   "cell_type": "code",
   "execution_count": 9,
   "id": "0efc046d-08b4-4dcb-a865-9e5a9b16f97a",
   "metadata": {},
   "outputs": [
    {
     "name": "stdout",
     "output_type": "stream",
     "text": [
      "\n",
      "Quick Summary:\n",
      "Overall metrics:\n"
     ]
    },
    {
     "data": {
      "text/plain": [
       "Total Messages            3489\n",
       "Average Positive      0.469573\n",
       "Average Negative       0.27583\n",
       "Average Balance       0.193743\n",
       "Most Active Hour             4\n",
       "Most Active Day     2024-10-25\n",
       "dtype: object"
      ]
     },
     "metadata": {},
     "output_type": "display_data"
    },
    {
     "name": "stdout",
     "output_type": "stream",
     "text": [
      "\n",
      "Top Users:\n"
     ]
    },
    {
     "data": {
      "text/plain": [
       "User_544    301\n",
       "User_494    216\n",
       "User_689    166\n",
       "User_421    143\n",
       "User_382    137\n",
       "dtype: int64"
      ]
     },
     "metadata": {},
     "output_type": "display_data"
    },
    {
     "name": "stdout",
     "output_type": "stream",
     "text": [
      "\n",
      "Sentiment Distribution:\n"
     ]
    },
    {
     "data": {
      "text/plain": [
       "sentiment_balance\n",
       "Very Positive    1424\n",
       "Very Negative     781\n",
       "Neutral           645\n",
       "Positive          380\n",
       "Negative          239\n",
       "Name: count, dtype: int64"
      ]
     },
     "metadata": {},
     "output_type": "display_data"
    }
   ],
   "source": [
    "# Get quick summary\n",
    "print(\"\\nQuick Summary:\")\n",
    "summary = analyzer.get_sentiment_summary(show_usernames=False)\n",
    "print(\"Overall metrics:\")\n",
    "display(summary['overall'])\n",
    "print(\"\\nTop Users:\")\n",
    "display(summary['top_users'])\n",
    "print(\"\\nSentiment Distribution:\")\n",
    "display(summary['sentiment_distribution'])"
   ]
  },
  {
   "cell_type": "code",
   "execution_count": 6,
   "id": "b0f264d3-9a28-4249-855d-99c95c582698",
   "metadata": {},
   "outputs": [
    {
     "name": "stdout",
     "output_type": "stream",
     "text": [
      "Most Active Users and Their Sentiment Profiles:\n"
     ]
    },
    {
     "data": {
      "text/html": [
       "<div>\n",
       "<style scoped>\n",
       "    .dataframe tbody tr th:only-of-type {\n",
       "        vertical-align: middle;\n",
       "    }\n",
       "\n",
       "    .dataframe tbody tr th {\n",
       "        vertical-align: top;\n",
       "    }\n",
       "\n",
       "    .dataframe thead th {\n",
       "        text-align: right;\n",
       "    }\n",
       "</style>\n",
       "<table border=\"1\" class=\"dataframe\">\n",
       "  <thead>\n",
       "    <tr style=\"text-align: right;\">\n",
       "      <th></th>\n",
       "      <th>Message Count</th>\n",
       "      <th>Avg Positive</th>\n",
       "      <th>Avg Negative</th>\n",
       "      <th>Balance</th>\n",
       "    </tr>\n",
       "  </thead>\n",
       "  <tbody>\n",
       "    <tr>\n",
       "      <th>User_544</th>\n",
       "      <td>301</td>\n",
       "      <td>0.703</td>\n",
       "      <td>0.144</td>\n",
       "      <td>0.559</td>\n",
       "    </tr>\n",
       "    <tr>\n",
       "      <th>User_494</th>\n",
       "      <td>216</td>\n",
       "      <td>0.407</td>\n",
       "      <td>0.273</td>\n",
       "      <td>0.134</td>\n",
       "    </tr>\n",
       "    <tr>\n",
       "      <th>User_689</th>\n",
       "      <td>166</td>\n",
       "      <td>0.473</td>\n",
       "      <td>0.231</td>\n",
       "      <td>0.242</td>\n",
       "    </tr>\n",
       "    <tr>\n",
       "      <th>User_421</th>\n",
       "      <td>143</td>\n",
       "      <td>0.487</td>\n",
       "      <td>0.323</td>\n",
       "      <td>0.164</td>\n",
       "    </tr>\n",
       "    <tr>\n",
       "      <th>User_382</th>\n",
       "      <td>137</td>\n",
       "      <td>0.692</td>\n",
       "      <td>0.164</td>\n",
       "      <td>0.528</td>\n",
       "    </tr>\n",
       "    <tr>\n",
       "      <th>User_447</th>\n",
       "      <td>134</td>\n",
       "      <td>0.666</td>\n",
       "      <td>0.182</td>\n",
       "      <td>0.484</td>\n",
       "    </tr>\n",
       "    <tr>\n",
       "      <th>User_837</th>\n",
       "      <td>109</td>\n",
       "      <td>0.379</td>\n",
       "      <td>0.345</td>\n",
       "      <td>0.034</td>\n",
       "    </tr>\n",
       "    <tr>\n",
       "      <th>User_659</th>\n",
       "      <td>83</td>\n",
       "      <td>0.447</td>\n",
       "      <td>0.319</td>\n",
       "      <td>0.128</td>\n",
       "    </tr>\n",
       "    <tr>\n",
       "      <th>User_443</th>\n",
       "      <td>79</td>\n",
       "      <td>0.400</td>\n",
       "      <td>0.441</td>\n",
       "      <td>-0.041</td>\n",
       "    </tr>\n",
       "    <tr>\n",
       "      <th>User_426</th>\n",
       "      <td>79</td>\n",
       "      <td>0.406</td>\n",
       "      <td>0.371</td>\n",
       "      <td>0.035</td>\n",
       "    </tr>\n",
       "  </tbody>\n",
       "</table>\n",
       "</div>"
      ],
      "text/plain": [
       "          Message Count  Avg Positive  Avg Negative  Balance\n",
       "User_544            301         0.703         0.144    0.559\n",
       "User_494            216         0.407         0.273    0.134\n",
       "User_689            166         0.473         0.231    0.242\n",
       "User_421            143         0.487         0.323    0.164\n",
       "User_382            137         0.692         0.164    0.528\n",
       "User_447            134         0.666         0.182    0.484\n",
       "User_837            109         0.379         0.345    0.034\n",
       "User_659             83         0.447         0.319    0.128\n",
       "User_443             79         0.400         0.441   -0.041\n",
       "User_426             79         0.406         0.371    0.035"
      ]
     },
     "metadata": {},
     "output_type": "display_data"
    }
   ],
   "source": [
    "# User Activity\n",
    "print(\"Most Active Users and Their Sentiment Profiles:\")\n",
    "display(analyzer.get_most_active_users(n=10))\n"
   ]
  },
  {
   "cell_type": "code",
   "execution_count": 7,
   "id": "1c634a18-abf3-4c60-8f2d-99b5b1cd89e8",
   "metadata": {},
   "outputs": [
    {
     "name": "stdout",
     "output_type": "stream",
     "text": [
      "Overall Sentiment Statistics:\n"
     ]
    },
    {
     "data": {
      "text/html": [
       "<div>\n",
       "<style scoped>\n",
       "    .dataframe tbody tr th:only-of-type {\n",
       "        vertical-align: middle;\n",
       "    }\n",
       "\n",
       "    .dataframe tbody tr th {\n",
       "        vertical-align: top;\n",
       "    }\n",
       "\n",
       "    .dataframe thead th {\n",
       "        text-align: right;\n",
       "    }\n",
       "</style>\n",
       "<table border=\"1\" class=\"dataframe\">\n",
       "  <thead>\n",
       "    <tr style=\"text-align: right;\">\n",
       "      <th></th>\n",
       "      <th>Count</th>\n",
       "      <th>Average</th>\n",
       "      <th>Std Dev</th>\n",
       "      <th>Minimum</th>\n",
       "      <th>Maximum</th>\n",
       "    </tr>\n",
       "  </thead>\n",
       "  <tbody>\n",
       "    <tr>\n",
       "      <th>Positive</th>\n",
       "      <td>3489.000</td>\n",
       "      <td>3489.000</td>\n",
       "      <td>3489.000</td>\n",
       "      <td>3489.000</td>\n",
       "      <td>3489.000</td>\n",
       "    </tr>\n",
       "    <tr>\n",
       "      <th>Negative</th>\n",
       "      <td>0.470</td>\n",
       "      <td>0.276</td>\n",
       "      <td>0.373</td>\n",
       "      <td>0.375</td>\n",
       "      <td>0.194</td>\n",
       "    </tr>\n",
       "    <tr>\n",
       "      <th>Helpful</th>\n",
       "      <td>0.346</td>\n",
       "      <td>0.300</td>\n",
       "      <td>0.325</td>\n",
       "      <td>0.356</td>\n",
       "      <td>0.578</td>\n",
       "    </tr>\n",
       "    <tr>\n",
       "      <th>Sarcastic</th>\n",
       "      <td>0.000</td>\n",
       "      <td>0.000</td>\n",
       "      <td>0.000</td>\n",
       "      <td>0.000</td>\n",
       "      <td>-1.000</td>\n",
       "    </tr>\n",
       "    <tr>\n",
       "      <th>Balance</th>\n",
       "      <td>1.000</td>\n",
       "      <td>1.000</td>\n",
       "      <td>1.000</td>\n",
       "      <td>1.000</td>\n",
       "      <td>1.000</td>\n",
       "    </tr>\n",
       "  </tbody>\n",
       "</table>\n",
       "</div>"
      ],
      "text/plain": [
       "              Count   Average   Std Dev   Minimum   Maximum\n",
       "Positive   3489.000  3489.000  3489.000  3489.000  3489.000\n",
       "Negative      0.470     0.276     0.373     0.375     0.194\n",
       "Helpful       0.346     0.300     0.325     0.356     0.578\n",
       "Sarcastic     0.000     0.000     0.000     0.000    -1.000\n",
       "Balance       1.000     1.000     1.000     1.000     1.000"
      ]
     },
     "metadata": {},
     "output_type": "display_data"
    }
   ],
   "source": [
    "print(\"Overall Sentiment Statistics:\")\n",
    "display(analyzer.get_sentiment_stats(by='overall'))"
   ]
  },
  {
   "cell_type": "code",
   "execution_count": 10,
   "id": "1212ef88-bf62-489b-b868-ff4b35d92702",
   "metadata": {},
   "outputs": [
    {
     "data": {
      "application/vnd.plotly.v1+json": {
       "config": {
        "plotlyServerURL": "https://plot.ly"
       },
       "data": [
        {
         "marker": {
          "color": "rgba(100, 149, 237, 0.6)"
         },
         "name": "Message Count",
         "opacity": 0.7,
         "type": "bar",
         "x": [
          0,
          1,
          2,
          3,
          4,
          5,
          6,
          7,
          8,
          9,
          10,
          11,
          12,
          13,
          14,
          15,
          16,
          17,
          18,
          19,
          20,
          21,
          22,
          23
         ],
         "xaxis": "x",
         "y": [
          26,
          77,
          86,
          376,
          544,
          280,
          133,
          169,
          331,
          248,
          124,
          70,
          118,
          92,
          88,
          111,
          83,
          70,
          92,
          106,
          127,
          57,
          41,
          40
         ],
         "yaxis": "y2"
        },
        {
         "line": {
          "color": "green",
          "width": 2
         },
         "name": "Positive Sentiment",
         "type": "scatter",
         "x": [
          0,
          1,
          2,
          3,
          4,
          5,
          6,
          7,
          8,
          9,
          10,
          11,
          12,
          13,
          14,
          15,
          16,
          17,
          18,
          19,
          20,
          21,
          22,
          23
         ],
         "y": [
          0.49615384615384617,
          0.4506493506493507,
          0.5453488372093023,
          0.4187234042553191,
          0.39926470588235297,
          0.46678571428571436,
          0.5330827067669174,
          0.6041420118343196,
          0.5196374622356495,
          0.5459677419354839,
          0.432258064516129,
          0.39285714285714285,
          0.4457627118644068,
          0.3706521739130435,
          0.46136363636363636,
          0.44054054054054054,
          0.5132530120481927,
          0.52,
          0.5010869565217392,
          0.47735849056603774,
          0.4094488188976378,
          0.5280701754385965,
          0.5292682926829269,
          0.5325
         ]
        },
        {
         "line": {
          "color": "red",
          "width": 2
         },
         "name": "Negative Sentiment",
         "type": "scatter",
         "x": [
          0,
          1,
          2,
          3,
          4,
          5,
          6,
          7,
          8,
          9,
          10,
          11,
          12,
          13,
          14,
          15,
          16,
          17,
          18,
          19,
          20,
          21,
          22,
          23
         ],
         "y": [
          0.2653846153846154,
          0.312987012987013,
          0.25,
          0.34273936170212765,
          0.3227941176470588,
          0.26321428571428573,
          0.22706766917293233,
          0.1727810650887574,
          0.2930513595166163,
          0.23508064516129035,
          0.34274193548387094,
          0.2557142857142857,
          0.2771186440677966,
          0.3967391304347826,
          0.22727272727272727,
          0.19279279279279282,
          0.1927710843373494,
          0.20142857142857143,
          0.20108695652173914,
          0.17547169811320756,
          0.3716535433070866,
          0.2719298245614035,
          0.21707317073170732,
          0.18
         ]
        }
       ],
       "layout": {
        "autosize": true,
        "hovermode": "x unified",
        "legend": {
         "x": 0.01,
         "xanchor": "left",
         "y": 0.99,
         "yanchor": "top"
        },
        "showlegend": true,
        "template": {
         "data": {
          "bar": [
           {
            "error_x": {
             "color": "#2a3f5f"
            },
            "error_y": {
             "color": "#2a3f5f"
            },
            "marker": {
             "line": {
              "color": "white",
              "width": 0.5
             },
             "pattern": {
              "fillmode": "overlay",
              "size": 10,
              "solidity": 0.2
             }
            },
            "type": "bar"
           }
          ],
          "barpolar": [
           {
            "marker": {
             "line": {
              "color": "white",
              "width": 0.5
             },
             "pattern": {
              "fillmode": "overlay",
              "size": 10,
              "solidity": 0.2
             }
            },
            "type": "barpolar"
           }
          ],
          "carpet": [
           {
            "aaxis": {
             "endlinecolor": "#2a3f5f",
             "gridcolor": "#C8D4E3",
             "linecolor": "#C8D4E3",
             "minorgridcolor": "#C8D4E3",
             "startlinecolor": "#2a3f5f"
            },
            "baxis": {
             "endlinecolor": "#2a3f5f",
             "gridcolor": "#C8D4E3",
             "linecolor": "#C8D4E3",
             "minorgridcolor": "#C8D4E3",
             "startlinecolor": "#2a3f5f"
            },
            "type": "carpet"
           }
          ],
          "choropleth": [
           {
            "colorbar": {
             "outlinewidth": 0,
             "ticks": ""
            },
            "type": "choropleth"
           }
          ],
          "contour": [
           {
            "colorbar": {
             "outlinewidth": 0,
             "ticks": ""
            },
            "colorscale": [
             [
              0,
              "#0d0887"
             ],
             [
              0.1111111111111111,
              "#46039f"
             ],
             [
              0.2222222222222222,
              "#7201a8"
             ],
             [
              0.3333333333333333,
              "#9c179e"
             ],
             [
              0.4444444444444444,
              "#bd3786"
             ],
             [
              0.5555555555555556,
              "#d8576b"
             ],
             [
              0.6666666666666666,
              "#ed7953"
             ],
             [
              0.7777777777777778,
              "#fb9f3a"
             ],
             [
              0.8888888888888888,
              "#fdca26"
             ],
             [
              1,
              "#f0f921"
             ]
            ],
            "type": "contour"
           }
          ],
          "contourcarpet": [
           {
            "colorbar": {
             "outlinewidth": 0,
             "ticks": ""
            },
            "type": "contourcarpet"
           }
          ],
          "heatmap": [
           {
            "colorbar": {
             "outlinewidth": 0,
             "ticks": ""
            },
            "colorscale": [
             [
              0,
              "#0d0887"
             ],
             [
              0.1111111111111111,
              "#46039f"
             ],
             [
              0.2222222222222222,
              "#7201a8"
             ],
             [
              0.3333333333333333,
              "#9c179e"
             ],
             [
              0.4444444444444444,
              "#bd3786"
             ],
             [
              0.5555555555555556,
              "#d8576b"
             ],
             [
              0.6666666666666666,
              "#ed7953"
             ],
             [
              0.7777777777777778,
              "#fb9f3a"
             ],
             [
              0.8888888888888888,
              "#fdca26"
             ],
             [
              1,
              "#f0f921"
             ]
            ],
            "type": "heatmap"
           }
          ],
          "heatmapgl": [
           {
            "colorbar": {
             "outlinewidth": 0,
             "ticks": ""
            },
            "colorscale": [
             [
              0,
              "#0d0887"
             ],
             [
              0.1111111111111111,
              "#46039f"
             ],
             [
              0.2222222222222222,
              "#7201a8"
             ],
             [
              0.3333333333333333,
              "#9c179e"
             ],
             [
              0.4444444444444444,
              "#bd3786"
             ],
             [
              0.5555555555555556,
              "#d8576b"
             ],
             [
              0.6666666666666666,
              "#ed7953"
             ],
             [
              0.7777777777777778,
              "#fb9f3a"
             ],
             [
              0.8888888888888888,
              "#fdca26"
             ],
             [
              1,
              "#f0f921"
             ]
            ],
            "type": "heatmapgl"
           }
          ],
          "histogram": [
           {
            "marker": {
             "pattern": {
              "fillmode": "overlay",
              "size": 10,
              "solidity": 0.2
             }
            },
            "type": "histogram"
           }
          ],
          "histogram2d": [
           {
            "colorbar": {
             "outlinewidth": 0,
             "ticks": ""
            },
            "colorscale": [
             [
              0,
              "#0d0887"
             ],
             [
              0.1111111111111111,
              "#46039f"
             ],
             [
              0.2222222222222222,
              "#7201a8"
             ],
             [
              0.3333333333333333,
              "#9c179e"
             ],
             [
              0.4444444444444444,
              "#bd3786"
             ],
             [
              0.5555555555555556,
              "#d8576b"
             ],
             [
              0.6666666666666666,
              "#ed7953"
             ],
             [
              0.7777777777777778,
              "#fb9f3a"
             ],
             [
              0.8888888888888888,
              "#fdca26"
             ],
             [
              1,
              "#f0f921"
             ]
            ],
            "type": "histogram2d"
           }
          ],
          "histogram2dcontour": [
           {
            "colorbar": {
             "outlinewidth": 0,
             "ticks": ""
            },
            "colorscale": [
             [
              0,
              "#0d0887"
             ],
             [
              0.1111111111111111,
              "#46039f"
             ],
             [
              0.2222222222222222,
              "#7201a8"
             ],
             [
              0.3333333333333333,
              "#9c179e"
             ],
             [
              0.4444444444444444,
              "#bd3786"
             ],
             [
              0.5555555555555556,
              "#d8576b"
             ],
             [
              0.6666666666666666,
              "#ed7953"
             ],
             [
              0.7777777777777778,
              "#fb9f3a"
             ],
             [
              0.8888888888888888,
              "#fdca26"
             ],
             [
              1,
              "#f0f921"
             ]
            ],
            "type": "histogram2dcontour"
           }
          ],
          "mesh3d": [
           {
            "colorbar": {
             "outlinewidth": 0,
             "ticks": ""
            },
            "type": "mesh3d"
           }
          ],
          "parcoords": [
           {
            "line": {
             "colorbar": {
              "outlinewidth": 0,
              "ticks": ""
             }
            },
            "type": "parcoords"
           }
          ],
          "pie": [
           {
            "automargin": true,
            "type": "pie"
           }
          ],
          "scatter": [
           {
            "fillpattern": {
             "fillmode": "overlay",
             "size": 10,
             "solidity": 0.2
            },
            "type": "scatter"
           }
          ],
          "scatter3d": [
           {
            "line": {
             "colorbar": {
              "outlinewidth": 0,
              "ticks": ""
             }
            },
            "marker": {
             "colorbar": {
              "outlinewidth": 0,
              "ticks": ""
             }
            },
            "type": "scatter3d"
           }
          ],
          "scattercarpet": [
           {
            "marker": {
             "colorbar": {
              "outlinewidth": 0,
              "ticks": ""
             }
            },
            "type": "scattercarpet"
           }
          ],
          "scattergeo": [
           {
            "marker": {
             "colorbar": {
              "outlinewidth": 0,
              "ticks": ""
             }
            },
            "type": "scattergeo"
           }
          ],
          "scattergl": [
           {
            "marker": {
             "colorbar": {
              "outlinewidth": 0,
              "ticks": ""
             }
            },
            "type": "scattergl"
           }
          ],
          "scattermapbox": [
           {
            "marker": {
             "colorbar": {
              "outlinewidth": 0,
              "ticks": ""
             }
            },
            "type": "scattermapbox"
           }
          ],
          "scatterpolar": [
           {
            "marker": {
             "colorbar": {
              "outlinewidth": 0,
              "ticks": ""
             }
            },
            "type": "scatterpolar"
           }
          ],
          "scatterpolargl": [
           {
            "marker": {
             "colorbar": {
              "outlinewidth": 0,
              "ticks": ""
             }
            },
            "type": "scatterpolargl"
           }
          ],
          "scatterternary": [
           {
            "marker": {
             "colorbar": {
              "outlinewidth": 0,
              "ticks": ""
             }
            },
            "type": "scatterternary"
           }
          ],
          "surface": [
           {
            "colorbar": {
             "outlinewidth": 0,
             "ticks": ""
            },
            "colorscale": [
             [
              0,
              "#0d0887"
             ],
             [
              0.1111111111111111,
              "#46039f"
             ],
             [
              0.2222222222222222,
              "#7201a8"
             ],
             [
              0.3333333333333333,
              "#9c179e"
             ],
             [
              0.4444444444444444,
              "#bd3786"
             ],
             [
              0.5555555555555556,
              "#d8576b"
             ],
             [
              0.6666666666666666,
              "#ed7953"
             ],
             [
              0.7777777777777778,
              "#fb9f3a"
             ],
             [
              0.8888888888888888,
              "#fdca26"
             ],
             [
              1,
              "#f0f921"
             ]
            ],
            "type": "surface"
           }
          ],
          "table": [
           {
            "cells": {
             "fill": {
              "color": "#EBF0F8"
             },
             "line": {
              "color": "white"
             }
            },
            "header": {
             "fill": {
              "color": "#C8D4E3"
             },
             "line": {
              "color": "white"
             }
            },
            "type": "table"
           }
          ]
         },
         "layout": {
          "annotationdefaults": {
           "arrowcolor": "#2a3f5f",
           "arrowhead": 0,
           "arrowwidth": 1
          },
          "autotypenumbers": "strict",
          "coloraxis": {
           "colorbar": {
            "outlinewidth": 0,
            "ticks": ""
           }
          },
          "colorscale": {
           "diverging": [
            [
             0,
             "#8e0152"
            ],
            [
             0.1,
             "#c51b7d"
            ],
            [
             0.2,
             "#de77ae"
            ],
            [
             0.3,
             "#f1b6da"
            ],
            [
             0.4,
             "#fde0ef"
            ],
            [
             0.5,
             "#f7f7f7"
            ],
            [
             0.6,
             "#e6f5d0"
            ],
            [
             0.7,
             "#b8e186"
            ],
            [
             0.8,
             "#7fbc41"
            ],
            [
             0.9,
             "#4d9221"
            ],
            [
             1,
             "#276419"
            ]
           ],
           "sequential": [
            [
             0,
             "#0d0887"
            ],
            [
             0.1111111111111111,
             "#46039f"
            ],
            [
             0.2222222222222222,
             "#7201a8"
            ],
            [
             0.3333333333333333,
             "#9c179e"
            ],
            [
             0.4444444444444444,
             "#bd3786"
            ],
            [
             0.5555555555555556,
             "#d8576b"
            ],
            [
             0.6666666666666666,
             "#ed7953"
            ],
            [
             0.7777777777777778,
             "#fb9f3a"
            ],
            [
             0.8888888888888888,
             "#fdca26"
            ],
            [
             1,
             "#f0f921"
            ]
           ],
           "sequentialminus": [
            [
             0,
             "#0d0887"
            ],
            [
             0.1111111111111111,
             "#46039f"
            ],
            [
             0.2222222222222222,
             "#7201a8"
            ],
            [
             0.3333333333333333,
             "#9c179e"
            ],
            [
             0.4444444444444444,
             "#bd3786"
            ],
            [
             0.5555555555555556,
             "#d8576b"
            ],
            [
             0.6666666666666666,
             "#ed7953"
            ],
            [
             0.7777777777777778,
             "#fb9f3a"
            ],
            [
             0.8888888888888888,
             "#fdca26"
            ],
            [
             1,
             "#f0f921"
            ]
           ]
          },
          "colorway": [
           "#636efa",
           "#EF553B",
           "#00cc96",
           "#ab63fa",
           "#FFA15A",
           "#19d3f3",
           "#FF6692",
           "#B6E880",
           "#FF97FF",
           "#FECB52"
          ],
          "font": {
           "color": "#2a3f5f"
          },
          "geo": {
           "bgcolor": "white",
           "lakecolor": "white",
           "landcolor": "white",
           "showlakes": true,
           "showland": true,
           "subunitcolor": "#C8D4E3"
          },
          "hoverlabel": {
           "align": "left"
          },
          "hovermode": "closest",
          "mapbox": {
           "style": "light"
          },
          "paper_bgcolor": "white",
          "plot_bgcolor": "white",
          "polar": {
           "angularaxis": {
            "gridcolor": "#EBF0F8",
            "linecolor": "#EBF0F8",
            "ticks": ""
           },
           "bgcolor": "white",
           "radialaxis": {
            "gridcolor": "#EBF0F8",
            "linecolor": "#EBF0F8",
            "ticks": ""
           }
          },
          "scene": {
           "xaxis": {
            "backgroundcolor": "white",
            "gridcolor": "#DFE8F3",
            "gridwidth": 2,
            "linecolor": "#EBF0F8",
            "showbackground": true,
            "ticks": "",
            "zerolinecolor": "#EBF0F8"
           },
           "yaxis": {
            "backgroundcolor": "white",
            "gridcolor": "#DFE8F3",
            "gridwidth": 2,
            "linecolor": "#EBF0F8",
            "showbackground": true,
            "ticks": "",
            "zerolinecolor": "#EBF0F8"
           },
           "zaxis": {
            "backgroundcolor": "white",
            "gridcolor": "#DFE8F3",
            "gridwidth": 2,
            "linecolor": "#EBF0F8",
            "showbackground": true,
            "ticks": "",
            "zerolinecolor": "#EBF0F8"
           }
          },
          "shapedefaults": {
           "line": {
            "color": "#2a3f5f"
           }
          },
          "ternary": {
           "aaxis": {
            "gridcolor": "#DFE8F3",
            "linecolor": "#A2B1C6",
            "ticks": ""
           },
           "baxis": {
            "gridcolor": "#DFE8F3",
            "linecolor": "#A2B1C6",
            "ticks": ""
           },
           "bgcolor": "white",
           "caxis": {
            "gridcolor": "#DFE8F3",
            "linecolor": "#A2B1C6",
            "ticks": ""
           }
          },
          "title": {
           "x": 0.05
          },
          "xaxis": {
           "automargin": true,
           "gridcolor": "#EBF0F8",
           "linecolor": "#EBF0F8",
           "ticks": "",
           "title": {
            "standoff": 15
           },
           "zerolinecolor": "#EBF0F8",
           "zerolinewidth": 2
          },
          "yaxis": {
           "automargin": true,
           "gridcolor": "#EBF0F8",
           "linecolor": "#EBF0F8",
           "ticks": "",
           "title": {
            "standoff": 15
           },
           "zerolinecolor": "#EBF0F8",
           "zerolinewidth": 2
          }
         }
        },
        "title": {
         "text": "Hourly Activity and Sentiment Patterns"
        },
        "xaxis": {
         "anchor": "y",
         "autorange": true,
         "domain": [
          0,
          0.94
         ],
         "gridcolor": "lightgray",
         "range": [
          -0.5,
          23.5
         ],
         "tickmode": "array",
         "ticktext": [
          "00:00",
          "01:00",
          "02:00",
          "03:00",
          "04:00",
          "05:00",
          "06:00",
          "07:00",
          "08:00",
          "09:00",
          "10:00",
          "11:00",
          "12:00",
          "13:00",
          "14:00",
          "15:00",
          "16:00",
          "17:00",
          "18:00",
          "19:00",
          "20:00",
          "21:00",
          "22:00",
          "23:00"
         ],
         "tickvals": [
          0,
          1,
          2,
          3,
          4,
          5,
          6,
          7,
          8,
          9,
          10,
          11,
          12,
          13,
          14,
          15,
          16,
          17,
          18,
          19,
          20,
          21,
          22,
          23
         ],
         "title": {
          "text": "Hour of Day"
         },
         "type": "linear"
        },
        "yaxis": {
         "anchor": "x",
         "autorange": true,
         "domain": [
          0,
          1
         ],
         "gridcolor": "lightgray",
         "range": [
          0.14881656804733728,
          0.6281065088757397
         ],
         "title": {
          "text": "Sentiment Score"
         },
         "type": "linear"
        },
        "yaxis2": {
         "anchor": "x",
         "autorange": true,
         "gridcolor": "lightgray",
         "overlaying": "y",
         "range": [
          0,
          572.6315789473684
         ],
         "side": "right",
         "title": {
          "text": "Message Count"
         },
         "type": "linear"
        }
       }
      },
      "image/png": "[encoded data removed]",
      "text/html": [
       "<div>                            <div id=\"fc997f5e-84dc-43fe-a143-d8996c1fa554\" class=\"plotly-graph-div\" style=\"height:500px; width:100%;\"></div>            <script type=\"text/javascript\">                require([\"plotly\"], function(Plotly) {                    window.PLOTLYENV=window.PLOTLYENV || {};                                    if (document.getElementById(\"fc997f5e-84dc-43fe-a143-d8996c1fa554\")) {                    Plotly.newPlot(                        \"fc997f5e-84dc-43fe-a143-d8996c1fa554\",                        [{\"marker\":{\"color\":\"rgba(100, 149, 237, 0.6)\"},\"name\":\"Message Count\",\"opacity\":0.7,\"x\":[0,1,2,3,4,5,6,7,8,9,10,11,12,13,14,15,16,17,18,19,20,21,22,23],\"y\":[26,77,86,376,544,280,133,169,331,248,124,70,118,92,88,111,83,70,92,106,127,57,41,40],\"type\":\"bar\",\"xaxis\":\"x\",\"yaxis\":\"y2\"},{\"line\":{\"color\":\"green\",\"width\":2},\"name\":\"Positive Sentiment\",\"x\":[0,1,2,3,4,5,6,7,8,9,10,11,12,13,14,15,16,17,18,19,20,21,22,23],\"y\":[0.49615384615384617,0.4506493506493507,0.5453488372093023,0.4187234042553191,0.39926470588235297,0.46678571428571436,0.5330827067669174,0.6041420118343196,0.5196374622356495,0.5459677419354839,0.432258064516129,0.39285714285714285,0.4457627118644068,0.3706521739130435,0.46136363636363636,0.44054054054054054,0.5132530120481927,0.52,0.5010869565217392,0.47735849056603774,0.4094488188976378,0.5280701754385965,0.5292682926829269,0.5325],\"type\":\"scatter\"},{\"line\":{\"color\":\"red\",\"width\":2},\"name\":\"Negative Sentiment\",\"x\":[0,1,2,3,4,5,6,7,8,9,10,11,12,13,14,15,16,17,18,19,20,21,22,23],\"y\":[0.2653846153846154,0.312987012987013,0.25,0.34273936170212765,0.3227941176470588,0.26321428571428573,0.22706766917293233,0.1727810650887574,0.2930513595166163,0.23508064516129035,0.34274193548387094,0.2557142857142857,0.2771186440677966,0.3967391304347826,0.22727272727272727,0.19279279279279282,0.1927710843373494,0.20142857142857143,0.20108695652173914,0.17547169811320756,0.3716535433070866,0.2719298245614035,0.21707317073170732,0.18],\"type\":\"scatter\"}],                        {\"template\":{\"data\":{\"barpolar\":[{\"marker\":{\"line\":{\"color\":\"white\",\"width\":0.5},\"pattern\":{\"fillmode\":\"overlay\",\"size\":10,\"solidity\":0.2}},\"type\":\"barpolar\"}],\"bar\":[{\"error_x\":{\"color\":\"#2a3f5f\"},\"error_y\":{\"color\":\"#2a3f5f\"},\"marker\":{\"line\":{\"color\":\"white\",\"width\":0.5},\"pattern\":{\"fillmode\":\"overlay\",\"size\":10,\"solidity\":0.2}},\"type\":\"bar\"}],\"carpet\":[{\"aaxis\":{\"endlinecolor\":\"#2a3f5f\",\"gridcolor\":\"#C8D4E3\",\"linecolor\":\"#C8D4E3\",\"minorgridcolor\":\"#C8D4E3\",\"startlinecolor\":\"#2a3f5f\"},\"baxis\":{\"endlinecolor\":\"#2a3f5f\",\"gridcolor\":\"#C8D4E3\",\"linecolor\":\"#C8D4E3\",\"minorgridcolor\":\"#C8D4E3\",\"startlinecolor\":\"#2a3f5f\"},\"type\":\"carpet\"}],\"choropleth\":[{\"colorbar\":{\"outlinewidth\":0,\"ticks\":\"\"},\"type\":\"choropleth\"}],\"contourcarpet\":[{\"colorbar\":{\"outlinewidth\":0,\"ticks\":\"\"},\"type\":\"contourcarpet\"}],\"contour\":[{\"colorbar\":{\"outlinewidth\":0,\"ticks\":\"\"},\"colorscale\":[[0.0,\"#0d0887\"],[0.1111111111111111,\"#46039f\"],[0.2222222222222222,\"#7201a8\"],[0.3333333333333333,\"#9c179e\"],[0.4444444444444444,\"#bd3786\"],[0.5555555555555556,\"#d8576b\"],[0.6666666666666666,\"#ed7953\"],[0.7777777777777778,\"#fb9f3a\"],[0.8888888888888888,\"#fdca26\"],[1.0,\"#f0f921\"]],\"type\":\"contour\"}],\"heatmapgl\":[{\"colorbar\":{\"outlinewidth\":0,\"ticks\":\"\"},\"colorscale\":[[0.0,\"#0d0887\"],[0.1111111111111111,\"#46039f\"],[0.2222222222222222,\"#7201a8\"],[0.3333333333333333,\"#9c179e\"],[0.4444444444444444,\"#bd3786\"],[0.5555555555555556,\"#d8576b\"],[0.6666666666666666,\"#ed7953\"],[0.7777777777777778,\"#fb9f3a\"],[0.8888888888888888,\"#fdca26\"],[1.0,\"#f0f921\"]],\"type\":\"heatmapgl\"}],\"heatmap\":[{\"colorbar\":{\"outlinewidth\":0,\"ticks\":\"\"},\"colorscale\":[[0.0,\"#0d0887\"],[0.1111111111111111,\"#46039f\"],[0.2222222222222222,\"#7201a8\"],[0.3333333333333333,\"#9c179e\"],[0.4444444444444444,\"#bd3786\"],[0.5555555555555556,\"#d8576b\"],[0.6666666666666666,\"#ed7953\"],[0.7777777777777778,\"#fb9f3a\"],[0.8888888888888888,\"#fdca26\"],[1.0,\"#f0f921\"]],\"type\":\"heatmap\"}],\"histogram2dcontour\":[{\"colorbar\":{\"outlinewidth\":0,\"ticks\":\"\"},\"colorscale\":[[0.0,\"#0d0887\"],[0.1111111111111111,\"#46039f\"],[0.2222222222222222,\"#7201a8\"],[0.3333333333333333,\"#9c179e\"],[0.4444444444444444,\"#bd3786\"],[0.5555555555555556,\"#d8576b\"],[0.6666666666666666,\"#ed7953\"],[0.7777777777777778,\"#fb9f3a\"],[0.8888888888888888,\"#fdca26\"],[1.0,\"#f0f921\"]],\"type\":\"histogram2dcontour\"}],\"histogram2d\":[{\"colorbar\":{\"outlinewidth\":0,\"ticks\":\"\"},\"colorscale\":[[0.0,\"#0d0887\"],[0.1111111111111111,\"#46039f\"],[0.2222222222222222,\"#7201a8\"],[0.3333333333333333,\"#9c179e\"],[0.4444444444444444,\"#bd3786\"],[0.5555555555555556,\"#d8576b\"],[0.6666666666666666,\"#ed7953\"],[0.7777777777777778,\"#fb9f3a\"],[0.8888888888888888,\"#fdca26\"],[1.0,\"#f0f921\"]],\"type\":\"histogram2d\"}],\"histogram\":[{\"marker\":{\"pattern\":{\"fillmode\":\"overlay\",\"size\":10,\"solidity\":0.2}},\"type\":\"histogram\"}],\"mesh3d\":[{\"colorbar\":{\"outlinewidth\":0,\"ticks\":\"\"},\"type\":\"mesh3d\"}],\"parcoords\":[{\"line\":{\"colorbar\":{\"outlinewidth\":0,\"ticks\":\"\"}},\"type\":\"parcoords\"}],\"pie\":[{\"automargin\":true,\"type\":\"pie\"}],\"scatter3d\":[{\"line\":{\"colorbar\":{\"outlinewidth\":0,\"ticks\":\"\"}},\"marker\":{\"colorbar\":{\"outlinewidth\":0,\"ticks\":\"\"}},\"type\":\"scatter3d\"}],\"scattercarpet\":[{\"marker\":{\"colorbar\":{\"outlinewidth\":0,\"ticks\":\"\"}},\"type\":\"scattercarpet\"}],\"scattergeo\":[{\"marker\":{\"colorbar\":{\"outlinewidth\":0,\"ticks\":\"\"}},\"type\":\"scattergeo\"}],\"scattergl\":[{\"marker\":{\"colorbar\":{\"outlinewidth\":0,\"ticks\":\"\"}},\"type\":\"scattergl\"}],\"scattermapbox\":[{\"marker\":{\"colorbar\":{\"outlinewidth\":0,\"ticks\":\"\"}},\"type\":\"scattermapbox\"}],\"scatterpolargl\":[{\"marker\":{\"colorbar\":{\"outlinewidth\":0,\"ticks\":\"\"}},\"type\":\"scatterpolargl\"}],\"scatterpolar\":[{\"marker\":{\"colorbar\":{\"outlinewidth\":0,\"ticks\":\"\"}},\"type\":\"scatterpolar\"}],\"scatter\":[{\"fillpattern\":{\"fillmode\":\"overlay\",\"size\":10,\"solidity\":0.2},\"type\":\"scatter\"}],\"scatterternary\":[{\"marker\":{\"colorbar\":{\"outlinewidth\":0,\"ticks\":\"\"}},\"type\":\"scatterternary\"}],\"surface\":[{\"colorbar\":{\"outlinewidth\":0,\"ticks\":\"\"},\"colorscale\":[[0.0,\"#0d0887\"],[0.1111111111111111,\"#46039f\"],[0.2222222222222222,\"#7201a8\"],[0.3333333333333333,\"#9c179e\"],[0.4444444444444444,\"#bd3786\"],[0.5555555555555556,\"#d8576b\"],[0.6666666666666666,\"#ed7953\"],[0.7777777777777778,\"#fb9f3a\"],[0.8888888888888888,\"#fdca26\"],[1.0,\"#f0f921\"]],\"type\":\"surface\"}],\"table\":[{\"cells\":{\"fill\":{\"color\":\"#EBF0F8\"},\"line\":{\"color\":\"white\"}},\"header\":{\"fill\":{\"color\":\"#C8D4E3\"},\"line\":{\"color\":\"white\"}},\"type\":\"table\"}]},\"layout\":{\"annotationdefaults\":{\"arrowcolor\":\"#2a3f5f\",\"arrowhead\":0,\"arrowwidth\":1},\"autotypenumbers\":\"strict\",\"coloraxis\":{\"colorbar\":{\"outlinewidth\":0,\"ticks\":\"\"}},\"colorscale\":{\"diverging\":[[0,\"#8e0152\"],[0.1,\"#c51b7d\"],[0.2,\"#de77ae\"],[0.3,\"#f1b6da\"],[0.4,\"#fde0ef\"],[0.5,\"#f7f7f7\"],[0.6,\"#e6f5d0\"],[0.7,\"#b8e186\"],[0.8,\"#7fbc41\"],[0.9,\"#4d9221\"],[1,\"#276419\"]],\"sequential\":[[0.0,\"#0d0887\"],[0.1111111111111111,\"#46039f\"],[0.2222222222222222,\"#7201a8\"],[0.3333333333333333,\"#9c179e\"],[0.4444444444444444,\"#bd3786\"],[0.5555555555555556,\"#d8576b\"],[0.6666666666666666,\"#ed7953\"],[0.7777777777777778,\"#fb9f3a\"],[0.8888888888888888,\"#fdca26\"],[1.0,\"#f0f921\"]],\"sequentialminus\":[[0.0,\"#0d0887\"],[0.1111111111111111,\"#46039f\"],[0.2222222222222222,\"#7201a8\"],[0.3333333333333333,\"#9c179e\"],[0.4444444444444444,\"#bd3786\"],[0.5555555555555556,\"#d8576b\"],[0.6666666666666666,\"#ed7953\"],[0.7777777777777778,\"#fb9f3a\"],[0.8888888888888888,\"#fdca26\"],[1.0,\"#f0f921\"]]},\"colorway\":[\"#636efa\",\"#EF553B\",\"#00cc96\",\"#ab63fa\",\"#FFA15A\",\"#19d3f3\",\"#FF6692\",\"#B6E880\",\"#FF97FF\",\"#FECB52\"],\"font\":{\"color\":\"#2a3f5f\"},\"geo\":{\"bgcolor\":\"white\",\"lakecolor\":\"white\",\"landcolor\":\"white\",\"showlakes\":true,\"showland\":true,\"subunitcolor\":\"#C8D4E3\"},\"hoverlabel\":{\"align\":\"left\"},\"hovermode\":\"closest\",\"mapbox\":{\"style\":\"light\"},\"paper_bgcolor\":\"white\",\"plot_bgcolor\":\"white\",\"polar\":{\"angularaxis\":{\"gridcolor\":\"#EBF0F8\",\"linecolor\":\"#EBF0F8\",\"ticks\":\"\"},\"bgcolor\":\"white\",\"radialaxis\":{\"gridcolor\":\"#EBF0F8\",\"linecolor\":\"#EBF0F8\",\"ticks\":\"\"}},\"scene\":{\"xaxis\":{\"backgroundcolor\":\"white\",\"gridcolor\":\"#DFE8F3\",\"gridwidth\":2,\"linecolor\":\"#EBF0F8\",\"showbackground\":true,\"ticks\":\"\",\"zerolinecolor\":\"#EBF0F8\"},\"yaxis\":{\"backgroundcolor\":\"white\",\"gridcolor\":\"#DFE8F3\",\"gridwidth\":2,\"linecolor\":\"#EBF0F8\",\"showbackground\":true,\"ticks\":\"\",\"zerolinecolor\":\"#EBF0F8\"},\"zaxis\":{\"backgroundcolor\":\"white\",\"gridcolor\":\"#DFE8F3\",\"gridwidth\":2,\"linecolor\":\"#EBF0F8\",\"showbackground\":true,\"ticks\":\"\",\"zerolinecolor\":\"#EBF0F8\"}},\"shapedefaults\":{\"line\":{\"color\":\"#2a3f5f\"}},\"ternary\":{\"aaxis\":{\"gridcolor\":\"#DFE8F3\",\"linecolor\":\"#A2B1C6\",\"ticks\":\"\"},\"baxis\":{\"gridcolor\":\"#DFE8F3\",\"linecolor\":\"#A2B1C6\",\"ticks\":\"\"},\"bgcolor\":\"white\",\"caxis\":{\"gridcolor\":\"#DFE8F3\",\"linecolor\":\"#A2B1C6\",\"ticks\":\"\"}},\"title\":{\"x\":0.05},\"xaxis\":{\"automargin\":true,\"gridcolor\":\"#EBF0F8\",\"linecolor\":\"#EBF0F8\",\"ticks\":\"\",\"title\":{\"standoff\":15},\"zerolinecolor\":\"#EBF0F8\",\"zerolinewidth\":2},\"yaxis\":{\"automargin\":true,\"gridcolor\":\"#EBF0F8\",\"linecolor\":\"#EBF0F8\",\"ticks\":\"\",\"title\":{\"standoff\":15},\"zerolinecolor\":\"#EBF0F8\",\"zerolinewidth\":2}}},\"xaxis\":{\"anchor\":\"y\",\"domain\":[0.0,0.94],\"title\":{\"text\":\"Hour of Day\"},\"gridcolor\":\"lightgray\",\"tickmode\":\"array\",\"ticktext\":[\"00:00\",\"01:00\",\"02:00\",\"03:00\",\"04:00\",\"05:00\",\"06:00\",\"07:00\",\"08:00\",\"09:00\",\"10:00\",\"11:00\",\"12:00\",\"13:00\",\"14:00\",\"15:00\",\"16:00\",\"17:00\",\"18:00\",\"19:00\",\"20:00\",\"21:00\",\"22:00\",\"23:00\"],\"tickvals\":[0,1,2,3,4,5,6,7,8,9,10,11,12,13,14,15,16,17,18,19,20,21,22,23]},\"yaxis\":{\"anchor\":\"x\",\"domain\":[0.0,1.0],\"title\":{\"text\":\"Sentiment Score\"},\"gridcolor\":\"lightgray\"},\"yaxis2\":{\"anchor\":\"x\",\"overlaying\":\"y\",\"side\":\"right\",\"title\":{\"text\":\"Message Count\"},\"gridcolor\":\"lightgray\"},\"legend\":{\"yanchor\":\"top\",\"y\":0.99,\"xanchor\":\"left\",\"x\":0.01},\"title\":{\"text\":\"Hourly Activity and Sentiment Patterns\"},\"height\":500,\"hovermode\":\"x unified\",\"showlegend\":true},                        {\"responsive\": true}                    ).then(function(){\n",
       "                            \n",
       "var gd = document.getElementById('fc997f5e-84dc-43fe-a143-d8996c1fa554');\n",
       "var x = new MutationObserver(function (mutations, observer) {{\n",
       "        var display = window.getComputedStyle(gd).display;\n",
       "        if (!display || display === 'none') {{\n",
       "            console.log([gd, 'removed!']);\n",
       "            Plotly.purge(gd);\n",
       "            observer.disconnect();\n",
       "        }}\n",
       "}});\n",
       "\n",
       "// Listen for the removal of the full notebook cells\n",
       "var notebookContainer = gd.closest('#notebook-container');\n",
       "if (notebookContainer) {{\n",
       "    x.observe(notebookContainer, {childList: true});\n",
       "}}\n",
       "\n",
       "// Listen for the clearing of the current output cell\n",
       "var outputEl = gd.closest('.output');\n",
       "if (outputEl) {{\n",
       "    x.observe(outputEl, {childList: true});\n",
       "}}\n",
       "\n",
       "                        })                };                });            </script>        </div>"
      ]
     },
     "metadata": {},
     "output_type": "display_data"
    }
   ],
   "source": [
    "# Create and display the plots\n",
    "sentiment_fig = analyzer.plot_detailed_sentiment_trends()\n",
    "hourly_fig = analyzer.plot_detailed_hourly_patterns()\n",
    "\n",
    "hourly_fig.show()"
   ]
  },
  {
   "cell_type": "code",
   "execution_count": 9,
   "id": "6d413507-39cc-403b-b2cd-ffa5cf9102b1",
   "metadata": {},
   "outputs": [
    {
     "data": {
      "application/vnd.plotly.v1+json": {
       "config": {
        "plotlyServerURL": "https://plot.ly"
       },
       "data": [
        {
         "line": {
          "color": "green",
          "width": 2
         },
         "name": "Positive",
         "type": "scatter",
         "x": [
          "2024-10-25",
          "2024-10-26",
          "2024-10-27",
          "2024-10-28"
         ],
         "y": [
          0.4707121661721068,
          0.45927099841521396,
          0.4935897435897436,
          0.4166666666666667
         ]
        },
        {
         "line": {
          "color": "red",
          "width": 2
         },
         "name": "Negative",
         "type": "scatter",
         "x": [
          "2024-10-25",
          "2024-10-26",
          "2024-10-27",
          "2024-10-28"
         ],
         "y": [
          0.28737759643916916,
          0.23280507131537242,
          0.2532051282051282,
          0.20000000000000004
         ]
        }
       ],
       "layout": {
        "autosize": true,
        "hovermode": "x unified",
        "legend": {
         "x": 0.01,
         "xanchor": "left",
         "y": 0.99,
         "yanchor": "top"
        },
        "showlegend": true,
        "template": {
         "data": {
          "bar": [
           {
            "error_x": {
             "color": "#2a3f5f"
            },
            "error_y": {
             "color": "#2a3f5f"
            },
            "marker": {
             "line": {
              "color": "white",
              "width": 0.5
             },
             "pattern": {
              "fillmode": "overlay",
              "size": 10,
              "solidity": 0.2
             }
            },
            "type": "bar"
           }
          ],
          "barpolar": [
           {
            "marker": {
             "line": {
              "color": "white",
              "width": 0.5
             },
             "pattern": {
              "fillmode": "overlay",
              "size": 10,
              "solidity": 0.2
             }
            },
            "type": "barpolar"
           }
          ],
          "carpet": [
           {
            "aaxis": {
             "endlinecolor": "#2a3f5f",
             "gridcolor": "#C8D4E3",
             "linecolor": "#C8D4E3",
             "minorgridcolor": "#C8D4E3",
             "startlinecolor": "#2a3f5f"
            },
            "baxis": {
             "endlinecolor": "#2a3f5f",
             "gridcolor": "#C8D4E3",
             "linecolor": "#C8D4E3",
             "minorgridcolor": "#C8D4E3",
             "startlinecolor": "#2a3f5f"
            },
            "type": "carpet"
           }
          ],
          "choropleth": [
           {
            "colorbar": {
             "outlinewidth": 0,
             "ticks": ""
            },
            "type": "choropleth"
           }
          ],
          "contour": [
           {
            "colorbar": {
             "outlinewidth": 0,
             "ticks": ""
            },
            "colorscale": [
             [
              0,
              "#0d0887"
             ],
             [
              0.1111111111111111,
              "#46039f"
             ],
             [
              0.2222222222222222,
              "#7201a8"
             ],
             [
              0.3333333333333333,
              "#9c179e"
             ],
             [
              0.4444444444444444,
              "#bd3786"
             ],
             [
              0.5555555555555556,
              "#d8576b"
             ],
             [
              0.6666666666666666,
              "#ed7953"
             ],
             [
              0.7777777777777778,
              "#fb9f3a"
             ],
             [
              0.8888888888888888,
              "#fdca26"
             ],
             [
              1,
              "#f0f921"
             ]
            ],
            "type": "contour"
           }
          ],
          "contourcarpet": [
           {
            "colorbar": {
             "outlinewidth": 0,
             "ticks": ""
            },
            "type": "contourcarpet"
           }
          ],
          "heatmap": [
           {
            "colorbar": {
             "outlinewidth": 0,
             "ticks": ""
            },
            "colorscale": [
             [
              0,
              "#0d0887"
             ],
             [
              0.1111111111111111,
              "#46039f"
             ],
             [
              0.2222222222222222,
              "#7201a8"
             ],
             [
              0.3333333333333333,
              "#9c179e"
             ],
             [
              0.4444444444444444,
              "#bd3786"
             ],
             [
              0.5555555555555556,
              "#d8576b"
             ],
             [
              0.6666666666666666,
              "#ed7953"
             ],
             [
              0.7777777777777778,
              "#fb9f3a"
             ],
             [
              0.8888888888888888,
              "#fdca26"
             ],
             [
              1,
              "#f0f921"
             ]
            ],
            "type": "heatmap"
           }
          ],
          "heatmapgl": [
           {
            "colorbar": {
             "outlinewidth": 0,
             "ticks": ""
            },
            "colorscale": [
             [
              0,
              "#0d0887"
             ],
             [
              0.1111111111111111,
              "#46039f"
             ],
             [
              0.2222222222222222,
              "#7201a8"
             ],
             [
              0.3333333333333333,
              "#9c179e"
             ],
             [
              0.4444444444444444,
              "#bd3786"
             ],
             [
              0.5555555555555556,
              "#d8576b"
             ],
             [
              0.6666666666666666,
              "#ed7953"
             ],
             [
              0.7777777777777778,
              "#fb9f3a"
             ],
             [
              0.8888888888888888,
              "#fdca26"
             ],
             [
              1,
              "#f0f921"
             ]
            ],
            "type": "heatmapgl"
           }
          ],
          "histogram": [
           {
            "marker": {
             "pattern": {
              "fillmode": "overlay",
              "size": 10,
              "solidity": 0.2
             }
            },
            "type": "histogram"
           }
          ],
          "histogram2d": [
           {
            "colorbar": {
             "outlinewidth": 0,
             "ticks": ""
            },
            "colorscale": [
             [
              0,
              "#0d0887"
             ],
             [
              0.1111111111111111,
              "#46039f"
             ],
             [
              0.2222222222222222,
              "#7201a8"
             ],
             [
              0.3333333333333333,
              "#9c179e"
             ],
             [
              0.4444444444444444,
              "#bd3786"
             ],
             [
              0.5555555555555556,
              "#d8576b"
             ],
             [
              0.6666666666666666,
              "#ed7953"
             ],
             [
              0.7777777777777778,
              "#fb9f3a"
             ],
             [
              0.8888888888888888,
              "#fdca26"
             ],
             [
              1,
              "#f0f921"
             ]
            ],
            "type": "histogram2d"
           }
          ],
          "histogram2dcontour": [
           {
            "colorbar": {
             "outlinewidth": 0,
             "ticks": ""
            },
            "colorscale": [
             [
              0,
              "#0d0887"
             ],
             [
              0.1111111111111111,
              "#46039f"
             ],
             [
              0.2222222222222222,
              "#7201a8"
             ],
             [
              0.3333333333333333,
              "#9c179e"
             ],
             [
              0.4444444444444444,
              "#bd3786"
             ],
             [
              0.5555555555555556,
              "#d8576b"
             ],
             [
              0.6666666666666666,
              "#ed7953"
             ],
             [
              0.7777777777777778,
              "#fb9f3a"
             ],
             [
              0.8888888888888888,
              "#fdca26"
             ],
             [
              1,
              "#f0f921"
             ]
            ],
            "type": "histogram2dcontour"
           }
          ],
          "mesh3d": [
           {
            "colorbar": {
             "outlinewidth": 0,
             "ticks": ""
            },
            "type": "mesh3d"
           }
          ],
          "parcoords": [
           {
            "line": {
             "colorbar": {
              "outlinewidth": 0,
              "ticks": ""
             }
            },
            "type": "parcoords"
           }
          ],
          "pie": [
           {
            "automargin": true,
            "type": "pie"
           }
          ],
          "scatter": [
           {
            "fillpattern": {
             "fillmode": "overlay",
             "size": 10,
             "solidity": 0.2
            },
            "type": "scatter"
           }
          ],
          "scatter3d": [
           {
            "line": {
             "colorbar": {
              "outlinewidth": 0,
              "ticks": ""
             }
            },
            "marker": {
             "colorbar": {
              "outlinewidth": 0,
              "ticks": ""
             }
            },
            "type": "scatter3d"
           }
          ],
          "scattercarpet": [
           {
            "marker": {
             "colorbar": {
              "outlinewidth": 0,
              "ticks": ""
             }
            },
            "type": "scattercarpet"
           }
          ],
          "scattergeo": [
           {
            "marker": {
             "colorbar": {
              "outlinewidth": 0,
              "ticks": ""
             }
            },
            "type": "scattergeo"
           }
          ],
          "scattergl": [
           {
            "marker": {
             "colorbar": {
              "outlinewidth": 0,
              "ticks": ""
             }
            },
            "type": "scattergl"
           }
          ],
          "scattermapbox": [
           {
            "marker": {
             "colorbar": {
              "outlinewidth": 0,
              "ticks": ""
             }
            },
            "type": "scattermapbox"
           }
          ],
          "scatterpolar": [
           {
            "marker": {
             "colorbar": {
              "outlinewidth": 0,
              "ticks": ""
             }
            },
            "type": "scatterpolar"
           }
          ],
          "scatterpolargl": [
           {
            "marker": {
             "colorbar": {
              "outlinewidth": 0,
              "ticks": ""
             }
            },
            "type": "scatterpolargl"
           }
          ],
          "scatterternary": [
           {
            "marker": {
             "colorbar": {
              "outlinewidth": 0,
              "ticks": ""
             }
            },
            "type": "scatterternary"
           }
          ],
          "surface": [
           {
            "colorbar": {
             "outlinewidth": 0,
             "ticks": ""
            },
            "colorscale": [
             [
              0,
              "#0d0887"
             ],
             [
              0.1111111111111111,
              "#46039f"
             ],
             [
              0.2222222222222222,
              "#7201a8"
             ],
             [
              0.3333333333333333,
              "#9c179e"
             ],
             [
              0.4444444444444444,
              "#bd3786"
             ],
             [
              0.5555555555555556,
              "#d8576b"
             ],
             [
              0.6666666666666666,
              "#ed7953"
             ],
             [
              0.7777777777777778,
              "#fb9f3a"
             ],
             [
              0.8888888888888888,
              "#fdca26"
             ],
             [
              1,
              "#f0f921"
             ]
            ],
            "type": "surface"
           }
          ],
          "table": [
           {
            "cells": {
             "fill": {
              "color": "#EBF0F8"
             },
             "line": {
              "color": "white"
             }
            },
            "header": {
             "fill": {
              "color": "#C8D4E3"
             },
             "line": {
              "color": "white"
             }
            },
            "type": "table"
           }
          ]
         },
         "layout": {
          "annotationdefaults": {
           "arrowcolor": "#2a3f5f",
           "arrowhead": 0,
           "arrowwidth": 1
          },
          "autotypenumbers": "strict",
          "coloraxis": {
           "colorbar": {
            "outlinewidth": 0,
            "ticks": ""
           }
          },
          "colorscale": {
           "diverging": [
            [
             0,
             "#8e0152"
            ],
            [
             0.1,
             "#c51b7d"
            ],
            [
             0.2,
             "#de77ae"
            ],
            [
             0.3,
             "#f1b6da"
            ],
            [
             0.4,
             "#fde0ef"
            ],
            [
             0.5,
             "#f7f7f7"
            ],
            [
             0.6,
             "#e6f5d0"
            ],
            [
             0.7,
             "#b8e186"
            ],
            [
             0.8,
             "#7fbc41"
            ],
            [
             0.9,
             "#4d9221"
            ],
            [
             1,
             "#276419"
            ]
           ],
           "sequential": [
            [
             0,
             "#0d0887"
            ],
            [
             0.1111111111111111,
             "#46039f"
            ],
            [
             0.2222222222222222,
             "#7201a8"
            ],
            [
             0.3333333333333333,
             "#9c179e"
            ],
            [
             0.4444444444444444,
             "#bd3786"
            ],
            [
             0.5555555555555556,
             "#d8576b"
            ],
            [
             0.6666666666666666,
             "#ed7953"
            ],
            [
             0.7777777777777778,
             "#fb9f3a"
            ],
            [
             0.8888888888888888,
             "#fdca26"
            ],
            [
             1,
             "#f0f921"
            ]
           ],
           "sequentialminus": [
            [
             0,
             "#0d0887"
            ],
            [
             0.1111111111111111,
             "#46039f"
            ],
            [
             0.2222222222222222,
             "#7201a8"
            ],
            [
             0.3333333333333333,
             "#9c179e"
            ],
            [
             0.4444444444444444,
             "#bd3786"
            ],
            [
             0.5555555555555556,
             "#d8576b"
            ],
            [
             0.6666666666666666,
             "#ed7953"
            ],
            [
             0.7777777777777778,
             "#fb9f3a"
            ],
            [
             0.8888888888888888,
             "#fdca26"
            ],
            [
             1,
             "#f0f921"
            ]
           ]
          },
          "colorway": [
           "#636efa",
           "#EF553B",
           "#00cc96",
           "#ab63fa",
           "#FFA15A",
           "#19d3f3",
           "#FF6692",
           "#B6E880",
           "#FF97FF",
           "#FECB52"
          ],
          "font": {
           "color": "#2a3f5f"
          },
          "geo": {
           "bgcolor": "white",
           "lakecolor": "white",
           "landcolor": "white",
           "showlakes": true,
           "showland": true,
           "subunitcolor": "#C8D4E3"
          },
          "hoverlabel": {
           "align": "left"
          },
          "hovermode": "closest",
          "mapbox": {
           "style": "light"
          },
          "paper_bgcolor": "white",
          "plot_bgcolor": "white",
          "polar": {
           "angularaxis": {
            "gridcolor": "#EBF0F8",
            "linecolor": "#EBF0F8",
            "ticks": ""
           },
           "bgcolor": "white",
           "radialaxis": {
            "gridcolor": "#EBF0F8",
            "linecolor": "#EBF0F8",
            "ticks": ""
           }
          },
          "scene": {
           "xaxis": {
            "backgroundcolor": "white",
            "gridcolor": "#DFE8F3",
            "gridwidth": 2,
            "linecolor": "#EBF0F8",
            "showbackground": true,
            "ticks": "",
            "zerolinecolor": "#EBF0F8"
           },
           "yaxis": {
            "backgroundcolor": "white",
            "gridcolor": "#DFE8F3",
            "gridwidth": 2,
            "linecolor": "#EBF0F8",
            "showbackground": true,
            "ticks": "",
            "zerolinecolor": "#EBF0F8"
           },
           "zaxis": {
            "backgroundcolor": "white",
            "gridcolor": "#DFE8F3",
            "gridwidth": 2,
            "linecolor": "#EBF0F8",
            "showbackground": true,
            "ticks": "",
            "zerolinecolor": "#EBF0F8"
           }
          },
          "shapedefaults": {
           "line": {
            "color": "#2a3f5f"
           }
          },
          "ternary": {
           "aaxis": {
            "gridcolor": "#DFE8F3",
            "linecolor": "#A2B1C6",
            "ticks": ""
           },
           "baxis": {
            "gridcolor": "#DFE8F3",
            "linecolor": "#A2B1C6",
            "ticks": ""
           },
           "bgcolor": "white",
           "caxis": {
            "gridcolor": "#DFE8F3",
            "linecolor": "#A2B1C6",
            "ticks": ""
           }
          },
          "title": {
           "x": 0.05
          },
          "xaxis": {
           "automargin": true,
           "gridcolor": "#EBF0F8",
           "linecolor": "#EBF0F8",
           "ticks": "",
           "title": {
            "standoff": 15
           },
           "zerolinecolor": "#EBF0F8",
           "zerolinewidth": 2
          },
          "yaxis": {
           "automargin": true,
           "gridcolor": "#EBF0F8",
           "linecolor": "#EBF0F8",
           "ticks": "",
           "title": {
            "standoff": 15
           },
           "zerolinecolor": "#EBF0F8",
           "zerolinewidth": 2
          }
         }
        },
        "title": {
         "text": "Sentiment Timeline"
        },
        "xaxis": {
         "autorange": true,
         "gridcolor": "lightgray",
         "range": [
          "2024-10-24 19:40:50.2076",
          "2024-10-28 04:19:09.7924"
         ],
         "title": {
          "text": "Date"
         },
         "type": "date"
        },
        "yaxis": {
         "autorange": true,
         "gridcolor": "lightgray",
         "range": [
          0.1772679857325527,
          0.5163217578571909
         ],
         "title": {
          "text": "Sentiment Score"
         },
         "type": "linear"
        }
       }
      },
      "image/png": "[encoded data removed]",
      "text/html": [
       "<div>                            <div id=\"ce5648fe-ec3c-463d-8f83-aa62cbd72ad1\" class=\"plotly-graph-div\" style=\"height:400px; width:100%;\"></div>            <script type=\"text/javascript\">                require([\"plotly\"], function(Plotly) {                    window.PLOTLYENV=window.PLOTLYENV || {};                                    if (document.getElementById(\"ce5648fe-ec3c-463d-8f83-aa62cbd72ad1\")) {                    Plotly.newPlot(                        \"ce5648fe-ec3c-463d-8f83-aa62cbd72ad1\",                        [{\"line\":{\"color\":\"green\",\"width\":2},\"name\":\"Positive\",\"x\":[\"2024-10-25\",\"2024-10-26\",\"2024-10-27\",\"2024-10-28\"],\"y\":[0.4707121661721068,0.45927099841521396,0.4935897435897436,0.4166666666666667],\"type\":\"scatter\"},{\"line\":{\"color\":\"red\",\"width\":2},\"name\":\"Negative\",\"x\":[\"2024-10-25\",\"2024-10-26\",\"2024-10-27\",\"2024-10-28\"],\"y\":[0.28737759643916916,0.23280507131537242,0.2532051282051282,0.20000000000000004],\"type\":\"scatter\"}],                        {\"template\":{\"data\":{\"barpolar\":[{\"marker\":{\"line\":{\"color\":\"white\",\"width\":0.5},\"pattern\":{\"fillmode\":\"overlay\",\"size\":10,\"solidity\":0.2}},\"type\":\"barpolar\"}],\"bar\":[{\"error_x\":{\"color\":\"#2a3f5f\"},\"error_y\":{\"color\":\"#2a3f5f\"},\"marker\":{\"line\":{\"color\":\"white\",\"width\":0.5},\"pattern\":{\"fillmode\":\"overlay\",\"size\":10,\"solidity\":0.2}},\"type\":\"bar\"}],\"carpet\":[{\"aaxis\":{\"endlinecolor\":\"#2a3f5f\",\"gridcolor\":\"#C8D4E3\",\"linecolor\":\"#C8D4E3\",\"minorgridcolor\":\"#C8D4E3\",\"startlinecolor\":\"#2a3f5f\"},\"baxis\":{\"endlinecolor\":\"#2a3f5f\",\"gridcolor\":\"#C8D4E3\",\"linecolor\":\"#C8D4E3\",\"minorgridcolor\":\"#C8D4E3\",\"startlinecolor\":\"#2a3f5f\"},\"type\":\"carpet\"}],\"choropleth\":[{\"colorbar\":{\"outlinewidth\":0,\"ticks\":\"\"},\"type\":\"choropleth\"}],\"contourcarpet\":[{\"colorbar\":{\"outlinewidth\":0,\"ticks\":\"\"},\"type\":\"contourcarpet\"}],\"contour\":[{\"colorbar\":{\"outlinewidth\":0,\"ticks\":\"\"},\"colorscale\":[[0.0,\"#0d0887\"],[0.1111111111111111,\"#46039f\"],[0.2222222222222222,\"#7201a8\"],[0.3333333333333333,\"#9c179e\"],[0.4444444444444444,\"#bd3786\"],[0.5555555555555556,\"#d8576b\"],[0.6666666666666666,\"#ed7953\"],[0.7777777777777778,\"#fb9f3a\"],[0.8888888888888888,\"#fdca26\"],[1.0,\"#f0f921\"]],\"type\":\"contour\"}],\"heatmapgl\":[{\"colorbar\":{\"outlinewidth\":0,\"ticks\":\"\"},\"colorscale\":[[0.0,\"#0d0887\"],[0.1111111111111111,\"#46039f\"],[0.2222222222222222,\"#7201a8\"],[0.3333333333333333,\"#9c179e\"],[0.4444444444444444,\"#bd3786\"],[0.5555555555555556,\"#d8576b\"],[0.6666666666666666,\"#ed7953\"],[0.7777777777777778,\"#fb9f3a\"],[0.8888888888888888,\"#fdca26\"],[1.0,\"#f0f921\"]],\"type\":\"heatmapgl\"}],\"heatmap\":[{\"colorbar\":{\"outlinewidth\":0,\"ticks\":\"\"},\"colorscale\":[[0.0,\"#0d0887\"],[0.1111111111111111,\"#46039f\"],[0.2222222222222222,\"#7201a8\"],[0.3333333333333333,\"#9c179e\"],[0.4444444444444444,\"#bd3786\"],[0.5555555555555556,\"#d8576b\"],[0.6666666666666666,\"#ed7953\"],[0.7777777777777778,\"#fb9f3a\"],[0.8888888888888888,\"#fdca26\"],[1.0,\"#f0f921\"]],\"type\":\"heatmap\"}],\"histogram2dcontour\":[{\"colorbar\":{\"outlinewidth\":0,\"ticks\":\"\"},\"colorscale\":[[0.0,\"#0d0887\"],[0.1111111111111111,\"#46039f\"],[0.2222222222222222,\"#7201a8\"],[0.3333333333333333,\"#9c179e\"],[0.4444444444444444,\"#bd3786\"],[0.5555555555555556,\"#d8576b\"],[0.6666666666666666,\"#ed7953\"],[0.7777777777777778,\"#fb9f3a\"],[0.8888888888888888,\"#fdca26\"],[1.0,\"#f0f921\"]],\"type\":\"histogram2dcontour\"}],\"histogram2d\":[{\"colorbar\":{\"outlinewidth\":0,\"ticks\":\"\"},\"colorscale\":[[0.0,\"#0d0887\"],[0.1111111111111111,\"#46039f\"],[0.2222222222222222,\"#7201a8\"],[0.3333333333333333,\"#9c179e\"],[0.4444444444444444,\"#bd3786\"],[0.5555555555555556,\"#d8576b\"],[0.6666666666666666,\"#ed7953\"],[0.7777777777777778,\"#fb9f3a\"],[0.8888888888888888,\"#fdca26\"],[1.0,\"#f0f921\"]],\"type\":\"histogram2d\"}],\"histogram\":[{\"marker\":{\"pattern\":{\"fillmode\":\"overlay\",\"size\":10,\"solidity\":0.2}},\"type\":\"histogram\"}],\"mesh3d\":[{\"colorbar\":{\"outlinewidth\":0,\"ticks\":\"\"},\"type\":\"mesh3d\"}],\"parcoords\":[{\"line\":{\"colorbar\":{\"outlinewidth\":0,\"ticks\":\"\"}},\"type\":\"parcoords\"}],\"pie\":[{\"automargin\":true,\"type\":\"pie\"}],\"scatter3d\":[{\"line\":{\"colorbar\":{\"outlinewidth\":0,\"ticks\":\"\"}},\"marker\":{\"colorbar\":{\"outlinewidth\":0,\"ticks\":\"\"}},\"type\":\"scatter3d\"}],\"scattercarpet\":[{\"marker\":{\"colorbar\":{\"outlinewidth\":0,\"ticks\":\"\"}},\"type\":\"scattercarpet\"}],\"scattergeo\":[{\"marker\":{\"colorbar\":{\"outlinewidth\":0,\"ticks\":\"\"}},\"type\":\"scattergeo\"}],\"scattergl\":[{\"marker\":{\"colorbar\":{\"outlinewidth\":0,\"ticks\":\"\"}},\"type\":\"scattergl\"}],\"scattermapbox\":[{\"marker\":{\"colorbar\":{\"outlinewidth\":0,\"ticks\":\"\"}},\"type\":\"scattermapbox\"}],\"scatterpolargl\":[{\"marker\":{\"colorbar\":{\"outlinewidth\":0,\"ticks\":\"\"}},\"type\":\"scatterpolargl\"}],\"scatterpolar\":[{\"marker\":{\"colorbar\":{\"outlinewidth\":0,\"ticks\":\"\"}},\"type\":\"scatterpolar\"}],\"scatter\":[{\"fillpattern\":{\"fillmode\":\"overlay\",\"size\":10,\"solidity\":0.2},\"type\":\"scatter\"}],\"scatterternary\":[{\"marker\":{\"colorbar\":{\"outlinewidth\":0,\"ticks\":\"\"}},\"type\":\"scatterternary\"}],\"surface\":[{\"colorbar\":{\"outlinewidth\":0,\"ticks\":\"\"},\"colorscale\":[[0.0,\"#0d0887\"],[0.1111111111111111,\"#46039f\"],[0.2222222222222222,\"#7201a8\"],[0.3333333333333333,\"#9c179e\"],[0.4444444444444444,\"#bd3786\"],[0.5555555555555556,\"#d8576b\"],[0.6666666666666666,\"#ed7953\"],[0.7777777777777778,\"#fb9f3a\"],[0.8888888888888888,\"#fdca26\"],[1.0,\"#f0f921\"]],\"type\":\"surface\"}],\"table\":[{\"cells\":{\"fill\":{\"color\":\"#EBF0F8\"},\"line\":{\"color\":\"white\"}},\"header\":{\"fill\":{\"color\":\"#C8D4E3\"},\"line\":{\"color\":\"white\"}},\"type\":\"table\"}]},\"layout\":{\"annotationdefaults\":{\"arrowcolor\":\"#2a3f5f\",\"arrowhead\":0,\"arrowwidth\":1},\"autotypenumbers\":\"strict\",\"coloraxis\":{\"colorbar\":{\"outlinewidth\":0,\"ticks\":\"\"}},\"colorscale\":{\"diverging\":[[0,\"#8e0152\"],[0.1,\"#c51b7d\"],[0.2,\"#de77ae\"],[0.3,\"#f1b6da\"],[0.4,\"#fde0ef\"],[0.5,\"#f7f7f7\"],[0.6,\"#e6f5d0\"],[0.7,\"#b8e186\"],[0.8,\"#7fbc41\"],[0.9,\"#4d9221\"],[1,\"#276419\"]],\"sequential\":[[0.0,\"#0d0887\"],[0.1111111111111111,\"#46039f\"],[0.2222222222222222,\"#7201a8\"],[0.3333333333333333,\"#9c179e\"],[0.4444444444444444,\"#bd3786\"],[0.5555555555555556,\"#d8576b\"],[0.6666666666666666,\"#ed7953\"],[0.7777777777777778,\"#fb9f3a\"],[0.8888888888888888,\"#fdca26\"],[1.0,\"#f0f921\"]],\"sequentialminus\":[[0.0,\"#0d0887\"],[0.1111111111111111,\"#46039f\"],[0.2222222222222222,\"#7201a8\"],[0.3333333333333333,\"#9c179e\"],[0.4444444444444444,\"#bd3786\"],[0.5555555555555556,\"#d8576b\"],[0.6666666666666666,\"#ed7953\"],[0.7777777777777778,\"#fb9f3a\"],[0.8888888888888888,\"#fdca26\"],[1.0,\"#f0f921\"]]},\"colorway\":[\"#636efa\",\"#EF553B\",\"#00cc96\",\"#ab63fa\",\"#FFA15A\",\"#19d3f3\",\"#FF6692\",\"#B6E880\",\"#FF97FF\",\"#FECB52\"],\"font\":{\"color\":\"#2a3f5f\"},\"geo\":{\"bgcolor\":\"white\",\"lakecolor\":\"white\",\"landcolor\":\"white\",\"showlakes\":true,\"showland\":true,\"subunitcolor\":\"#C8D4E3\"},\"hoverlabel\":{\"align\":\"left\"},\"hovermode\":\"closest\",\"mapbox\":{\"style\":\"light\"},\"paper_bgcolor\":\"white\",\"plot_bgcolor\":\"white\",\"polar\":{\"angularaxis\":{\"gridcolor\":\"#EBF0F8\",\"linecolor\":\"#EBF0F8\",\"ticks\":\"\"},\"bgcolor\":\"white\",\"radialaxis\":{\"gridcolor\":\"#EBF0F8\",\"linecolor\":\"#EBF0F8\",\"ticks\":\"\"}},\"scene\":{\"xaxis\":{\"backgroundcolor\":\"white\",\"gridcolor\":\"#DFE8F3\",\"gridwidth\":2,\"linecolor\":\"#EBF0F8\",\"showbackground\":true,\"ticks\":\"\",\"zerolinecolor\":\"#EBF0F8\"},\"yaxis\":{\"backgroundcolor\":\"white\",\"gridcolor\":\"#DFE8F3\",\"gridwidth\":2,\"linecolor\":\"#EBF0F8\",\"showbackground\":true,\"ticks\":\"\",\"zerolinecolor\":\"#EBF0F8\"},\"zaxis\":{\"backgroundcolor\":\"white\",\"gridcolor\":\"#DFE8F3\",\"gridwidth\":2,\"linecolor\":\"#EBF0F8\",\"showbackground\":true,\"ticks\":\"\",\"zerolinecolor\":\"#EBF0F8\"}},\"shapedefaults\":{\"line\":{\"color\":\"#2a3f5f\"}},\"ternary\":{\"aaxis\":{\"gridcolor\":\"#DFE8F3\",\"linecolor\":\"#A2B1C6\",\"ticks\":\"\"},\"baxis\":{\"gridcolor\":\"#DFE8F3\",\"linecolor\":\"#A2B1C6\",\"ticks\":\"\"},\"bgcolor\":\"white\",\"caxis\":{\"gridcolor\":\"#DFE8F3\",\"linecolor\":\"#A2B1C6\",\"ticks\":\"\"}},\"title\":{\"x\":0.05},\"xaxis\":{\"automargin\":true,\"gridcolor\":\"#EBF0F8\",\"linecolor\":\"#EBF0F8\",\"ticks\":\"\",\"title\":{\"standoff\":15},\"zerolinecolor\":\"#EBF0F8\",\"zerolinewidth\":2},\"yaxis\":{\"automargin\":true,\"gridcolor\":\"#EBF0F8\",\"linecolor\":\"#EBF0F8\",\"ticks\":\"\",\"title\":{\"standoff\":15},\"zerolinecolor\":\"#EBF0F8\",\"zerolinewidth\":2}}},\"legend\":{\"yanchor\":\"top\",\"y\":0.99,\"xanchor\":\"left\",\"x\":0.01},\"title\":{\"text\":\"Sentiment Timeline\"},\"xaxis\":{\"title\":{\"text\":\"Date\"},\"gridcolor\":\"lightgray\"},\"yaxis\":{\"title\":{\"text\":\"Sentiment Score\"},\"gridcolor\":\"lightgray\"},\"height\":400,\"hovermode\":\"x unified\",\"showlegend\":true},                        {\"responsive\": true}                    ).then(function(){\n",
       "                            \n",
       "var gd = document.getElementById('ce5648fe-ec3c-463d-8f83-aa62cbd72ad1');\n",
       "var x = new MutationObserver(function (mutations, observer) {{\n",
       "        var display = window.getComputedStyle(gd).display;\n",
       "        if (!display || display === 'none') {{\n",
       "            console.log([gd, 'removed!']);\n",
       "            Plotly.purge(gd);\n",
       "            observer.disconnect();\n",
       "        }}\n",
       "}});\n",
       "\n",
       "// Listen for the removal of the full notebook cells\n",
       "var notebookContainer = gd.closest('#notebook-container');\n",
       "if (notebookContainer) {{\n",
       "    x.observe(notebookContainer, {childList: true});\n",
       "}}\n",
       "\n",
       "// Listen for the clearing of the current output cell\n",
       "var outputEl = gd.closest('.output');\n",
       "if (outputEl) {{\n",
       "    x.observe(outputEl, {childList: true});\n",
       "}}\n",
       "\n",
       "                        })                };                });            </script>        </div>"
      ]
     },
     "metadata": {},
     "output_type": "display_data"
    }
   ],
   "source": [
    "fig = analyzer.plot_simple_sentiment_timeline()\n",
    "\n",
    "fig.show()"
   ]
  },
  {
   "cell_type": "code",
   "execution_count": null,
   "id": "7ce53aa8-3531-4ffd-adc7-8fefab317dab",
   "metadata": {},
   "outputs": [],
   "source": []
  }
 ],
 "metadata": {
  "kernelspec": {
   "display_name": "Python 3 (ipykernel)",
   "language": "python",
   "name": "python3"
  },
  "language_info": {
   "codemirror_mode": {
    "name": "ipython",
    "version": 3
   },
   "file_extension": ".py",
   "mimetype": "text/x-python",
   "name": "python",
   "nbconvert_exporter": "python",
   "pygments_lexer": "ipython3",
   "version": "3.10.12"
  }
 },
 "nbformat": 4,
 "nbformat_minor": 5
}
